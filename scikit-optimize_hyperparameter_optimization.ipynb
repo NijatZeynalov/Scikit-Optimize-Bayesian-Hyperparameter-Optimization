{
 "cells": [
  {
   "cell_type": "markdown",
   "metadata": {},
   "source": [
    "# Scikit-Optimize methods\n",
    "\n",
    "Scikit-optimize is another open-source Python library for hyperparameter optimization. It implements several methods for sequential model-based optimization.\n",
    "\n",
    "The library is very easy to use and provides a general toolkit for Bayesian optimization that can be used for hyperparameter tuning. It also provides support for tuning the hyperparameters of machine learning algorithms offered by the scikit-learn library.\n",
    "\n",
    "The scikit-optimize is built on top of Scipy, NumPy, and Scikit-Learn.\n",
    "\n",
    "Scikit-optimize has at least four important features you need to know in order to run your first optimization. Let's look at them in depth now.\n",
    "\n",
    "\n",
    "\n",
    "### Objective Function\n",
    "This is a function that will be called by the search procedure. It receives hyperparameter values as input from the search space and returns the loss (the lower the better).\n",
    "\n",
    "This means that during the optimization process, we train the model with selected hyperparameter values and predict the target feature. Then we evaluate the prediction error and give it back to the optimizer.\n",
    "\n",
    "The optimizer will decide which values to check and iterate over again. You will learn how to create an objective function in the practical example below.\n",
    "\n",
    "### Optimizer\n",
    "This is the function that performs the Bayesian Hyperparameter Optimization process. The optimization function iterates at each model and the search space to optimize and then minimizes the objective function.\n",
    "\n",
    "There are different optimization functions provided by the scikit-optimize library, such as:\n",
    "\n",
    "__dummy_minimize__ — Random search by uniform sampling within the given bounds.\n",
    "\n",
    "__forest_minimize__ — Sequential optimization using decision trees.\n",
    "\n",
    "__gbrt_minimize__ — Sequential optimization using gradient boosted trees.\n",
    "\n",
    "__gp_minimize__ — Bayesian optimization using Gaussian Processes.\n",
    "\n",
    "\n",
    "### Procedure\n",
    "\n",
    "To tune the hyper-parameters of our model we need to:\n",
    "\n",
    "- define a model\n",
    "- decide which parameters to optimize\n",
    "- define the objective function we want to minimize.\n",
    "\n",
    "### NOTE\n",
    "\n",
    "Scikit-Optimize will always **minimize** the objective function, so if we want to maximize a function, for example the roc-auc, we need to **negate** the metric. Thus, instead of maximizing the roc-auc, we minimize the -roc-auc.\n",
    "\n",
    "\n",
    "Scikit-Optimize, or skopt for short, is an open-source Python library for performing optimization tasks.\n",
    "\n",
    "It offers efficient optimization algorithms, such as Bayesian Optimization, and can be used to find the minimum or maximum of arbitrary cost functions.\n",
    "\n",
    "Bayesian Optimization provides a principled technique based on Bayes Theorem to direct a search of a global optimization problem that is efficient and effective. It works by building a probabilistic model of the objective function, called the surrogate function, that is then searched efficiently with an acquisition function before candidate samples are chosen for evaluation on the real objective function."
   ]
  },
  {
   "cell_type": "code",
   "execution_count": 1,
   "metadata": {},
   "outputs": [],
   "source": [
    "import numpy as np\n",
    "import pandas as pd\n",
    "\n",
    "from sklearn.ensemble import GradientBoostingClassifier\n",
    "from sklearn.model_selection import cross_val_score, train_test_split\n",
    "from skopt import gp_minimize\n",
    "from skopt import forest_minimize # Bayesian Optimization with RF as surrogate\n",
    "from skopt import gbrt_minimize # Bayesian Optimization with GBM as surrogate\n",
    "from skopt import Optimizer # for the optimization\n",
    "from joblib import Parallel, delayed # for the parallelization\n",
    "from skopt import dummy_minimize # for the randomized search\n",
    "from skopt.plots import plot_convergence\n",
    "from skopt.space import Real, Integer, Categorical\n",
    "from skopt.utils import use_named_args"
   ]
  },
  {
   "cell_type": "markdown",
   "metadata": {},
   "source": [
    "# Load dataset"
   ]
  },
  {
   "cell_type": "code",
   "execution_count": 3,
   "metadata": {},
   "outputs": [
    {
     "data": {
      "text/html": [
       "<div>\n",
       "<style scoped>\n",
       "    .dataframe tbody tr th:only-of-type {\n",
       "        vertical-align: middle;\n",
       "    }\n",
       "\n",
       "    .dataframe tbody tr th {\n",
       "        vertical-align: top;\n",
       "    }\n",
       "\n",
       "    .dataframe thead th {\n",
       "        text-align: right;\n",
       "    }\n",
       "</style>\n",
       "<table border=\"1\" class=\"dataframe\">\n",
       "  <thead>\n",
       "    <tr style=\"text-align: right;\">\n",
       "      <th></th>\n",
       "      <th>ID</th>\n",
       "      <th>Age</th>\n",
       "      <th>Experience</th>\n",
       "      <th>Income</th>\n",
       "      <th>ZIP Code</th>\n",
       "      <th>Family</th>\n",
       "      <th>CCAvg</th>\n",
       "      <th>Education</th>\n",
       "      <th>Mortgage</th>\n",
       "      <th>Personal Loan</th>\n",
       "      <th>Securities Account</th>\n",
       "      <th>CD Account</th>\n",
       "      <th>Online</th>\n",
       "      <th>CreditCard</th>\n",
       "    </tr>\n",
       "  </thead>\n",
       "  <tbody>\n",
       "    <tr>\n",
       "      <th>0</th>\n",
       "      <td>1</td>\n",
       "      <td>25</td>\n",
       "      <td>1</td>\n",
       "      <td>49</td>\n",
       "      <td>91107</td>\n",
       "      <td>4</td>\n",
       "      <td>1.6</td>\n",
       "      <td>1</td>\n",
       "      <td>0</td>\n",
       "      <td>0</td>\n",
       "      <td>1</td>\n",
       "      <td>0</td>\n",
       "      <td>0</td>\n",
       "      <td>0</td>\n",
       "    </tr>\n",
       "    <tr>\n",
       "      <th>1</th>\n",
       "      <td>2</td>\n",
       "      <td>45</td>\n",
       "      <td>19</td>\n",
       "      <td>34</td>\n",
       "      <td>90089</td>\n",
       "      <td>3</td>\n",
       "      <td>1.5</td>\n",
       "      <td>1</td>\n",
       "      <td>0</td>\n",
       "      <td>0</td>\n",
       "      <td>1</td>\n",
       "      <td>0</td>\n",
       "      <td>0</td>\n",
       "      <td>0</td>\n",
       "    </tr>\n",
       "    <tr>\n",
       "      <th>2</th>\n",
       "      <td>3</td>\n",
       "      <td>39</td>\n",
       "      <td>15</td>\n",
       "      <td>11</td>\n",
       "      <td>94720</td>\n",
       "      <td>1</td>\n",
       "      <td>1.0</td>\n",
       "      <td>1</td>\n",
       "      <td>0</td>\n",
       "      <td>0</td>\n",
       "      <td>0</td>\n",
       "      <td>0</td>\n",
       "      <td>0</td>\n",
       "      <td>0</td>\n",
       "    </tr>\n",
       "    <tr>\n",
       "      <th>3</th>\n",
       "      <td>4</td>\n",
       "      <td>35</td>\n",
       "      <td>9</td>\n",
       "      <td>100</td>\n",
       "      <td>94112</td>\n",
       "      <td>1</td>\n",
       "      <td>2.7</td>\n",
       "      <td>2</td>\n",
       "      <td>0</td>\n",
       "      <td>0</td>\n",
       "      <td>0</td>\n",
       "      <td>0</td>\n",
       "      <td>0</td>\n",
       "      <td>0</td>\n",
       "    </tr>\n",
       "    <tr>\n",
       "      <th>4</th>\n",
       "      <td>5</td>\n",
       "      <td>35</td>\n",
       "      <td>8</td>\n",
       "      <td>45</td>\n",
       "      <td>91330</td>\n",
       "      <td>4</td>\n",
       "      <td>1.0</td>\n",
       "      <td>2</td>\n",
       "      <td>0</td>\n",
       "      <td>0</td>\n",
       "      <td>0</td>\n",
       "      <td>0</td>\n",
       "      <td>0</td>\n",
       "      <td>1</td>\n",
       "    </tr>\n",
       "  </tbody>\n",
       "</table>\n",
       "</div>"
      ],
      "text/plain": [
       "   ID  Age  Experience  Income  ZIP Code  Family  CCAvg  Education  Mortgage  \\\n",
       "0   1   25           1      49     91107       4    1.6          1         0   \n",
       "1   2   45          19      34     90089       3    1.5          1         0   \n",
       "2   3   39          15      11     94720       1    1.0          1         0   \n",
       "3   4   35           9     100     94112       1    2.7          2         0   \n",
       "4   5   35           8      45     91330       4    1.0          2         0   \n",
       "\n",
       "   Personal Loan  Securities Account  CD Account  Online  CreditCard  \n",
       "0              0                   1           0       0           0  \n",
       "1              0                   1           0       0           0  \n",
       "2              0                   0           0       0           0  \n",
       "3              0                   0           0       0           0  \n",
       "4              0                   0           0       0           1  "
      ]
     },
     "execution_count": 3,
     "metadata": {},
     "output_type": "execute_result"
    }
   ],
   "source": [
    "data = pd.read_csv('Bank_Personal_Loan_Modelling.csv')\n",
    "data.head()"
   ]
  },
  {
   "cell_type": "code",
   "execution_count": 8,
   "metadata": {},
   "outputs": [
    {
     "data": {
      "text/html": [
       "<div>\n",
       "<style scoped>\n",
       "    .dataframe tbody tr th:only-of-type {\n",
       "        vertical-align: middle;\n",
       "    }\n",
       "\n",
       "    .dataframe tbody tr th {\n",
       "        vertical-align: top;\n",
       "    }\n",
       "\n",
       "    .dataframe thead th {\n",
       "        text-align: right;\n",
       "    }\n",
       "</style>\n",
       "<table border=\"1\" class=\"dataframe\">\n",
       "  <thead>\n",
       "    <tr style=\"text-align: right;\">\n",
       "      <th></th>\n",
       "      <th>Age</th>\n",
       "      <th>Experience</th>\n",
       "      <th>Income</th>\n",
       "      <th>ZIP Code</th>\n",
       "      <th>Family</th>\n",
       "      <th>CCAvg</th>\n",
       "      <th>Education</th>\n",
       "      <th>Mortgage</th>\n",
       "      <th>Personal Loan</th>\n",
       "      <th>Securities Account</th>\n",
       "      <th>CD Account</th>\n",
       "      <th>Online</th>\n",
       "    </tr>\n",
       "  </thead>\n",
       "  <tbody>\n",
       "    <tr>\n",
       "      <th>0</th>\n",
       "      <td>25</td>\n",
       "      <td>1</td>\n",
       "      <td>49</td>\n",
       "      <td>91107</td>\n",
       "      <td>4</td>\n",
       "      <td>1.6</td>\n",
       "      <td>1</td>\n",
       "      <td>0</td>\n",
       "      <td>0</td>\n",
       "      <td>1</td>\n",
       "      <td>0</td>\n",
       "      <td>0</td>\n",
       "    </tr>\n",
       "    <tr>\n",
       "      <th>1</th>\n",
       "      <td>45</td>\n",
       "      <td>19</td>\n",
       "      <td>34</td>\n",
       "      <td>90089</td>\n",
       "      <td>3</td>\n",
       "      <td>1.5</td>\n",
       "      <td>1</td>\n",
       "      <td>0</td>\n",
       "      <td>0</td>\n",
       "      <td>1</td>\n",
       "      <td>0</td>\n",
       "      <td>0</td>\n",
       "    </tr>\n",
       "    <tr>\n",
       "      <th>2</th>\n",
       "      <td>39</td>\n",
       "      <td>15</td>\n",
       "      <td>11</td>\n",
       "      <td>94720</td>\n",
       "      <td>1</td>\n",
       "      <td>1.0</td>\n",
       "      <td>1</td>\n",
       "      <td>0</td>\n",
       "      <td>0</td>\n",
       "      <td>0</td>\n",
       "      <td>0</td>\n",
       "      <td>0</td>\n",
       "    </tr>\n",
       "    <tr>\n",
       "      <th>3</th>\n",
       "      <td>35</td>\n",
       "      <td>9</td>\n",
       "      <td>100</td>\n",
       "      <td>94112</td>\n",
       "      <td>1</td>\n",
       "      <td>2.7</td>\n",
       "      <td>2</td>\n",
       "      <td>0</td>\n",
       "      <td>0</td>\n",
       "      <td>0</td>\n",
       "      <td>0</td>\n",
       "      <td>0</td>\n",
       "    </tr>\n",
       "    <tr>\n",
       "      <th>4</th>\n",
       "      <td>35</td>\n",
       "      <td>8</td>\n",
       "      <td>45</td>\n",
       "      <td>91330</td>\n",
       "      <td>4</td>\n",
       "      <td>1.0</td>\n",
       "      <td>2</td>\n",
       "      <td>0</td>\n",
       "      <td>0</td>\n",
       "      <td>0</td>\n",
       "      <td>0</td>\n",
       "      <td>0</td>\n",
       "    </tr>\n",
       "  </tbody>\n",
       "</table>\n",
       "</div>"
      ],
      "text/plain": [
       "   Age  Experience  Income  ZIP Code  Family  CCAvg  Education  Mortgage  \\\n",
       "0   25           1      49     91107       4    1.6          1         0   \n",
       "1   45          19      34     90089       3    1.5          1         0   \n",
       "2   39          15      11     94720       1    1.0          1         0   \n",
       "3   35           9     100     94112       1    2.7          2         0   \n",
       "4   35           8      45     91330       4    1.0          2         0   \n",
       "\n",
       "   Personal Loan  Securities Account  CD Account  Online  \n",
       "0              0                   1           0       0  \n",
       "1              0                   1           0       0  \n",
       "2              0                   0           0       0  \n",
       "3              0                   0           0       0  \n",
       "4              0                   0           0       0  "
      ]
     },
     "execution_count": 8,
     "metadata": {},
     "output_type": "execute_result"
    }
   ],
   "source": [
    "X = data.iloc[:,1:-1]\n",
    "X.head()"
   ]
  },
  {
   "cell_type": "code",
   "execution_count": 9,
   "metadata": {},
   "outputs": [
    {
     "data": {
      "text/plain": [
       "0    0\n",
       "1    0\n",
       "2    0\n",
       "3    0\n",
       "4    1\n",
       "Name: CreditCard, dtype: int64"
      ]
     },
     "execution_count": 9,
     "metadata": {},
     "output_type": "execute_result"
    }
   ],
   "source": [
    "y = data.iloc[:,-1]\n",
    "y.head()"
   ]
  },
  {
   "cell_type": "code",
   "execution_count": 13,
   "metadata": {},
   "outputs": [
    {
     "data": {
      "text/plain": [
       "(5000,)"
      ]
     },
     "execution_count": 13,
     "metadata": {},
     "output_type": "execute_result"
    }
   ],
   "source": [
    "y.shape"
   ]
  },
  {
   "cell_type": "code",
   "execution_count": 10,
   "metadata": {},
   "outputs": [
    {
     "data": {
      "text/plain": [
       "0    0.706\n",
       "1    0.294\n",
       "Name: CreditCard, dtype: float64"
      ]
     },
     "execution_count": 10,
     "metadata": {},
     "output_type": "execute_result"
    }
   ],
   "source": [
    "# the target:\n",
    "y.value_counts() / len(y)"
   ]
  },
  {
   "cell_type": "code",
   "execution_count": 15,
   "metadata": {},
   "outputs": [
    {
     "data": {
      "text/plain": [
       "((4000, 12), (1000, 12))"
      ]
     },
     "execution_count": 15,
     "metadata": {},
     "output_type": "execute_result"
    }
   ],
   "source": [
    "# split dataset into a train and test set\n",
    "\n",
    "X_train, X_test, y_train, y_test = train_test_split(\n",
    "    X, y, test_size=0.2, random_state=0)\n",
    "\n",
    "X_train.shape, X_test.shape"
   ]
  },
  {
   "cell_type": "markdown",
   "metadata": {},
   "source": [
    "# Building base model\n",
    "\n",
    "In this project, I have implemented XGBoost which is an implementation of gradient boosted decision trees designed for speed and performance that is dominative competitive machine learning."
   ]
  },
  {
   "cell_type": "code",
   "execution_count": 17,
   "metadata": {},
   "outputs": [],
   "source": [
    "# XGB\n",
    "import xgboost as xgb"
   ]
  },
  {
   "cell_type": "code",
   "execution_count": 21,
   "metadata": {},
   "outputs": [
    {
     "name": "stderr",
     "output_type": "stream",
     "text": [
      "C:\\Users\\004567\\Anaconda3\\envs\\root3\\lib\\site-packages\\xgboost\\sklearn.py:1146: UserWarning: The use of label encoder in XGBClassifier is deprecated and will be removed in a future release. To remove this warning, do the following: 1) Pass option use_label_encoder=False when constructing XGBClassifier object; and 2) Encode your labels (y) as integers starting with 0, i.e. 0, 1, 2, ..., [num_class - 1].\n",
      "  warnings.warn(label_encoder_deprecation_msg, UserWarning)\n"
     ]
    },
    {
     "name": "stdout",
     "output_type": "stream",
     "text": [
      "[04:00:04] WARNING: C:/Users/Administrator/workspace/xgboost-win64_release_1.4.0/src/learner.cc:1095: Starting in XGBoost 1.3.0, the default evaluation metric used with the objective 'binary:logistic' was changed from 'error' to 'logloss'. Explicitly set eval_metric if you'd like to restore the old behavior.\n"
     ]
    },
    {
     "name": "stderr",
     "output_type": "stream",
     "text": [
      "C:\\Users\\004567\\Anaconda3\\envs\\root3\\lib\\site-packages\\xgboost\\data.py:114: UserWarning: Use subset (sliced data) of np.ndarray is not recommended because it will generate extra copies and increase memory consumption\n",
      "  \"because it will generate extra copies and increase \" +\n"
     ]
    },
    {
     "data": {
      "text/plain": [
       "0.716"
      ]
     },
     "execution_count": 21,
     "metadata": {},
     "output_type": "execute_result"
    }
   ],
   "source": [
    "from sklearn.metrics import accuracy_score\n",
    "\n",
    "gbm = xgb.XGBClassifier(random_state=1000)\n",
    "\n",
    "gbm.fit(X_train, y_train)\n",
    "\n",
    "preds = gbm.predict(X_test)\n",
    "accuracy_score(y_test, preds)"
   ]
  },
  {
   "cell_type": "markdown",
   "metadata": {},
   "source": [
    "As you see, our baseline model accuracy is 0.716"
   ]
  },
  {
   "cell_type": "markdown",
   "metadata": {},
   "source": [
    "# Hyperparameter space\n",
    "\n",
    "Determining the hyperparameter space for all hyperparameter methods.\n"
   ]
  },
  {
   "cell_type": "code",
   "execution_count": 19,
   "metadata": {},
   "outputs": [
    {
     "data": {
      "text/plain": [
       "list"
      ]
     },
     "execution_count": 19,
     "metadata": {},
     "output_type": "execute_result"
    }
   ],
   "source": [
    "param_grid = [\n",
    "    Integer(10, 1000, name='n_estimators'),\n",
    "    Integer(1, 50, name='max_depth'),\n",
    "    Real(0.01, 0.99, name='learning_rate'),\n",
    "    Categorical(['gbtree', 'dart'], name='booster'),\n",
    "    Real(0.01, 100, name='gamma'),\n",
    "]\n",
    "\n",
    "type(param_grid)"
   ]
  },
  {
   "cell_type": "markdown",
   "metadata": {},
   "source": [
    "## 2. Random Search SCIKIT-OPTIMIZE\n",
    "\n",
    "This class can be used in much the same way as the GridSearchCV class, but instead of trying out all possible combinations, it evaluates a given number of random combinations by selecting a random value for each hyperparameter at every iteration. This approach has two main benefits:\n",
    "\n",
    "\n",
    "If you let randomized search run for, say, 1,000 iterations, this approach will explore 1,000 different values for each hyperparameter (instead of just a few values per hyperparameter with the grid search approach).\n",
    "\n",
    "\n",
    "Simply by setting the number of iterations, you have more control over the computing budget you want to allocate to hyperparameter search.\n"
   ]
  },
  {
   "cell_type": "code",
   "execution_count": 23,
   "metadata": {},
   "outputs": [],
   "source": [
    "# We design a function to maximize the accuracy, of a GBM,\n",
    "# with cross-validation\n",
    "\n",
    "# the decorator allows our objective function to receive the parameters as\n",
    "# keyword arguments. This is a requirement of Scikit-Optimize.\n",
    "@use_named_args(param_grid)\n",
    "def objective(**params):\n",
    "    \n",
    "    # model with new parameters\n",
    "    gbm.set_params(**params)\n",
    "\n",
    "    # optimization function (hyperparam response function)\n",
    "    value = np.mean(\n",
    "        cross_val_score(\n",
    "            gbm, \n",
    "            X_train,\n",
    "            y_train,\n",
    "            cv=2,\n",
    "            n_jobs=-4,\n",
    "            scoring='accuracy')\n",
    "    )\n",
    "\n",
    "    # negate because we need to minimize\n",
    "    return -value"
   ]
  },
  {
   "cell_type": "code",
   "execution_count": 24,
   "metadata": {},
   "outputs": [
    {
     "name": "stdout",
     "output_type": "stream",
     "text": [
      "642.1875545978546\n"
     ]
    }
   ],
   "source": [
    "# dummy_minimize performs the randomized search\n",
    "import time\n",
    "start = time.time()\n",
    "\n",
    "search = dummy_minimize(\n",
    "    objective,  # the objective function to minimize\n",
    "    param_grid,  # the hyperparameter space\n",
    "    n_calls=30,  # the number of subsequent evaluations of f(x)\n",
    "    random_state=0,\n",
    ")\n",
    "\n",
    "end = time.time()\n",
    "print(end - start)\n",
    "random_search_run_time = end - start"
   ]
  },
  {
   "cell_type": "code",
   "execution_count": 25,
   "metadata": {},
   "outputs": [
    {
     "data": {
      "text/plain": [
       "'Best score=-0.7410'"
      ]
     },
     "execution_count": 25,
     "metadata": {},
     "output_type": "execute_result"
    }
   ],
   "source": [
    "# function value at the minimum.\n",
    "# note that it is the negative of the accuracy\n",
    "\n",
    "\"Best score=%.4f\" % search.fun"
   ]
  },
  {
   "cell_type": "markdown",
   "metadata": {},
   "source": [
    "Note: Your results may vary given the stochastic nature of the algorithm or evaluation procedure, or differences in numerical precision."
   ]
  },
  {
   "cell_type": "markdown",
   "metadata": {},
   "source": [
    "## Evaluate convergence of the search\n",
    "\n",
    "[plot_convergence](https://scikit-optimize.github.io/stable/modules/generated/skopt.plots.plot_convergence.html#skopt.plots.plot_convergence)"
   ]
  },
  {
   "cell_type": "code",
   "execution_count": 26,
   "metadata": {},
   "outputs": [
    {
     "data": {
      "text/plain": [
       "<AxesSubplot:title={'center':'Convergence plot'}, xlabel='Number of calls $n$', ylabel='$\\\\min f(x)$ after $n$ calls'>"
      ]
     },
     "execution_count": 26,
     "metadata": {},
     "output_type": "execute_result"
    },
    {
     "data": {
      "image/png": "[encoded data removed]",
      "text/plain": [
       "<Figure size 432x288 with 1 Axes>"
      ]
     },
     "metadata": {
      "needs_background": "light"
     },
     "output_type": "display_data"
    }
   ],
   "source": [
    "plot_convergence(search)"
   ]
  },
  {
   "cell_type": "code",
   "execution_count": 27,
   "metadata": {},
   "outputs": [],
   "source": [
    "dim_names = ['n_estimators', 'max_depth', 'learning_rate', 'booster', 'gamma']"
   ]
  },
  {
   "cell_type": "code",
   "execution_count": 28,
   "metadata": {},
   "outputs": [
    {
     "data": {
      "text/html": [
       "<div>\n",
       "<style scoped>\n",
       "    .dataframe tbody tr th:only-of-type {\n",
       "        vertical-align: middle;\n",
       "    }\n",
       "\n",
       "    .dataframe tbody tr th {\n",
       "        vertical-align: top;\n",
       "    }\n",
       "\n",
       "    .dataframe thead th {\n",
       "        text-align: right;\n",
       "    }\n",
       "</style>\n",
       "<table border=\"1\" class=\"dataframe\">\n",
       "  <thead>\n",
       "    <tr style=\"text-align: right;\">\n",
       "      <th></th>\n",
       "      <th>n_estimators</th>\n",
       "      <th>max_depth</th>\n",
       "      <th>learning_rate</th>\n",
       "      <th>booster</th>\n",
       "      <th>gamma</th>\n",
       "      <th>accuracy</th>\n",
       "    </tr>\n",
       "  </thead>\n",
       "  <tbody>\n",
       "    <tr>\n",
       "      <th>10</th>\n",
       "      <td>301</td>\n",
       "      <td>39</td>\n",
       "      <td>0.667225</td>\n",
       "      <td>gbtree</td>\n",
       "      <td>12.901341</td>\n",
       "      <td>-0.74100</td>\n",
       "    </tr>\n",
       "    <tr>\n",
       "      <th>0</th>\n",
       "      <td>569</td>\n",
       "      <td>1</td>\n",
       "      <td>0.600708</td>\n",
       "      <td>dart</td>\n",
       "      <td>42.371243</td>\n",
       "      <td>-0.74025</td>\n",
       "    </tr>\n",
       "    <tr>\n",
       "      <th>27</th>\n",
       "      <td>471</td>\n",
       "      <td>46</td>\n",
       "      <td>0.671930</td>\n",
       "      <td>gbtree</td>\n",
       "      <td>31.328701</td>\n",
       "      <td>-0.74025</td>\n",
       "    </tr>\n",
       "    <tr>\n",
       "      <th>26</th>\n",
       "      <td>792</td>\n",
       "      <td>33</td>\n",
       "      <td>0.839480</td>\n",
       "      <td>dart</td>\n",
       "      <td>29.750721</td>\n",
       "      <td>-0.74025</td>\n",
       "    </tr>\n",
       "    <tr>\n",
       "      <th>25</th>\n",
       "      <td>850</td>\n",
       "      <td>27</td>\n",
       "      <td>0.570807</td>\n",
       "      <td>gbtree</td>\n",
       "      <td>95.275374</td>\n",
       "      <td>-0.74025</td>\n",
       "    </tr>\n",
       "  </tbody>\n",
       "</table>\n",
       "</div>"
      ],
      "text/plain": [
       "    n_estimators  max_depth  learning_rate booster      gamma  accuracy\n",
       "10           301         39       0.667225  gbtree  12.901341  -0.74100\n",
       "0            569          1       0.600708    dart  42.371243  -0.74025\n",
       "27           471         46       0.671930  gbtree  31.328701  -0.74025\n",
       "26           792         33       0.839480    dart  29.750721  -0.74025\n",
       "25           850         27       0.570807  gbtree  95.275374  -0.74025"
      ]
     },
     "execution_count": 28,
     "metadata": {},
     "output_type": "execute_result"
    }
   ],
   "source": [
    "# all together in one dataframe, so we can investigate further\n",
    "random_search_results = pd.concat([\n",
    "    pd.DataFrame(search.x_iters),\n",
    "    pd.Series(search.func_vals),\n",
    "], axis=1)\n",
    "\n",
    "random_search_results.columns = dim_names + ['accuracy']\n",
    "random_search_results.sort_values(by='accuracy', ascending=True, inplace=True)\n",
    "\n",
    "# tmp.sort_values(by='accuracy', ascending=False, inplace=True)\n",
    "random_search_results.head()"
   ]
  },
  {
   "cell_type": "markdown",
   "metadata": {},
   "source": [
    "# 3. Gaussian process-based Bayesian Optimization.\n",
    "\n",
    "We are now ready for sequential model-based optimization. Here we use Gaussian process-based Optimization. Bayesian Optimization is a class of iterative optimization methods that focuses on the general optimization setting, where a description of 𝒳 is available, but knowledge of the properties of f is limited. Bayesian Optimization methods are characterized by two features:\n",
    "\n",
    "\n",
    "__the surrogate model__ -  f ̂, for the function f,\n",
    "\n",
    "\n",
    "__an acquisition function__ -  computed from the surrogate and used for guiding the selection of the next evaluation point"
   ]
  },
  {
   "cell_type": "code",
   "execution_count": 29,
   "metadata": {
    "scrolled": true
   },
   "outputs": [
    {
     "name": "stdout",
     "output_type": "stream",
     "text": [
      "483.4329128265381\n"
     ]
    }
   ],
   "source": [
    "# gp_minimize performs by default GP Optimization \n",
    "# using a Marten Kernel\n",
    "import time\n",
    "start = time.time()\n",
    "\n",
    "gp_ = gp_minimize(\n",
    "    objective, # the objective function to minimize\n",
    "    param_grid, # the hyperparameter space\n",
    "    n_initial_points=10, # the number of points to evaluate f(x) to start of\n",
    "    acq_func='EI', # the acquisition function\n",
    "    n_calls=30, # the number of subsequent evaluations of f(x)\n",
    "    random_state=0, \n",
    ")\n",
    "\n",
    "end = time.time()\n",
    "print(end - start)\n",
    "gp_bayesian_run_time = end - start"
   ]
  },
  {
   "cell_type": "code",
   "execution_count": 30,
   "metadata": {},
   "outputs": [
    {
     "data": {
      "text/plain": [
       "'Best score=-0.7410'"
      ]
     },
     "execution_count": 30,
     "metadata": {},
     "output_type": "execute_result"
    }
   ],
   "source": [
    "# function value at the minimum.\n",
    "# note that it is the negative of the accuracy\n",
    "\n",
    "\"Best score=%.4f\" % gp_.fun"
   ]
  },
  {
   "cell_type": "code",
   "execution_count": 31,
   "metadata": {},
   "outputs": [
    {
     "data": {
      "text/plain": [
       "[400, 27, 0.5963646497195423, 'gbtree', 14.0475418198134]"
      ]
     },
     "execution_count": 31,
     "metadata": {},
     "output_type": "execute_result"
    }
   ],
   "source": [
    "gp_.x"
   ]
  },
  {
   "cell_type": "markdown",
   "metadata": {},
   "source": [
    "## Evaluate convergence of the search\n",
    "\n",
    "[plot_convergence](https://scikit-optimize.github.io/stable/modules/generated/skopt.plots.plot_convergence.html#skopt.plots.plot_convergence)"
   ]
  },
  {
   "cell_type": "code",
   "execution_count": 32,
   "metadata": {},
   "outputs": [
    {
     "data": {
      "text/plain": [
       "<AxesSubplot:title={'center':'Convergence plot'}, xlabel='Number of calls $n$', ylabel='$\\\\min f(x)$ after $n$ calls'>"
      ]
     },
     "execution_count": 32,
     "metadata": {},
     "output_type": "execute_result"
    },
    {
     "data": {
      "image/png": "[encoded data removed]",
      "text/plain": [
       "<Figure size 432x288 with 1 Axes>"
      ]
     },
     "metadata": {
      "needs_background": "light"
     },
     "output_type": "display_data"
    }
   ],
   "source": [
    "plot_convergence(gp_)"
   ]
  },
  {
   "cell_type": "code",
   "execution_count": 33,
   "metadata": {},
   "outputs": [
    {
     "data": {
      "text/html": [
       "<div>\n",
       "<style scoped>\n",
       "    .dataframe tbody tr th:only-of-type {\n",
       "        vertical-align: middle;\n",
       "    }\n",
       "\n",
       "    .dataframe tbody tr th {\n",
       "        vertical-align: top;\n",
       "    }\n",
       "\n",
       "    .dataframe thead th {\n",
       "        text-align: right;\n",
       "    }\n",
       "</style>\n",
       "<table border=\"1\" class=\"dataframe\">\n",
       "  <thead>\n",
       "    <tr style=\"text-align: right;\">\n",
       "      <th></th>\n",
       "      <th>n_estimators</th>\n",
       "      <th>max_depth</th>\n",
       "      <th>learning_rate</th>\n",
       "      <th>booster</th>\n",
       "      <th>gamma</th>\n",
       "      <th>accuracy</th>\n",
       "    </tr>\n",
       "  </thead>\n",
       "  <tbody>\n",
       "    <tr>\n",
       "      <th>14</th>\n",
       "      <td>400</td>\n",
       "      <td>27</td>\n",
       "      <td>0.596365</td>\n",
       "      <td>gbtree</td>\n",
       "      <td>14.047542</td>\n",
       "      <td>-0.74100</td>\n",
       "    </tr>\n",
       "    <tr>\n",
       "      <th>27</th>\n",
       "      <td>362</td>\n",
       "      <td>50</td>\n",
       "      <td>0.010000</td>\n",
       "      <td>dart</td>\n",
       "      <td>11.106282</td>\n",
       "      <td>-0.74025</td>\n",
       "    </tr>\n",
       "    <tr>\n",
       "      <th>26</th>\n",
       "      <td>10</td>\n",
       "      <td>12</td>\n",
       "      <td>0.781684</td>\n",
       "      <td>gbtree</td>\n",
       "      <td>46.020260</td>\n",
       "      <td>-0.74025</td>\n",
       "    </tr>\n",
       "    <tr>\n",
       "      <th>25</th>\n",
       "      <td>544</td>\n",
       "      <td>39</td>\n",
       "      <td>0.399809</td>\n",
       "      <td>dart</td>\n",
       "      <td>20.434931</td>\n",
       "      <td>-0.74025</td>\n",
       "    </tr>\n",
       "    <tr>\n",
       "      <th>24</th>\n",
       "      <td>1000</td>\n",
       "      <td>17</td>\n",
       "      <td>0.285025</td>\n",
       "      <td>gbtree</td>\n",
       "      <td>18.555926</td>\n",
       "      <td>-0.74025</td>\n",
       "    </tr>\n",
       "  </tbody>\n",
       "</table>\n",
       "</div>"
      ],
      "text/plain": [
       "    n_estimators  max_depth  learning_rate booster      gamma  accuracy\n",
       "14           400         27       0.596365  gbtree  14.047542  -0.74100\n",
       "27           362         50       0.010000    dart  11.106282  -0.74025\n",
       "26            10         12       0.781684  gbtree  46.020260  -0.74025\n",
       "25           544         39       0.399809    dart  20.434931  -0.74025\n",
       "24          1000         17       0.285025  gbtree  18.555926  -0.74025"
      ]
     },
     "execution_count": 33,
     "metadata": {},
     "output_type": "execute_result"
    }
   ],
   "source": [
    "# all together in one dataframe, so we can investigate further\n",
    "gp_bayesian_results = pd.concat([\n",
    "    pd.DataFrame(gp_.x_iters),\n",
    "    pd.Series(gp_.func_vals),\n",
    "], axis=1)\n",
    "\n",
    "gp_bayesian_results.columns = dim_names + ['accuracy']\n",
    "gp_bayesian_results.sort_values(by='accuracy', ascending=True, inplace=True)\n",
    "\n",
    "# tmp.sort_values(by='accuracy', ascending=False, inplace=True)\n",
    "gp_bayesian_results.head()"
   ]
  },
  {
   "cell_type": "markdown",
   "metadata": {},
   "source": [
    "## 4. Bayesian Optimization with Random Forests (SMAC)\n",
    "\n",
    "Sequential optimisation using decision trees.\n",
    "\n",
    "A tree based regression model is used to model the expensive to evaluate function func. The model is improved by sequentially evaluating the expensive function at the next best point. Thereby finding the minimum of func with as few evaluations as possible."
   ]
  },
  {
   "cell_type": "code",
   "execution_count": 34,
   "metadata": {},
   "outputs": [
    {
     "name": "stdout",
     "output_type": "stream",
     "text": [
      "490.37929487228394\n"
     ]
    }
   ],
   "source": [
    "# forest_minimize performs Bayesian Optimization \n",
    "# using Random Forests as surrogate\n",
    "start = time.time()\n",
    "\n",
    "fm_ = forest_minimize(\n",
    "    objective, # the objective function to minimize\n",
    "    param_grid, # the hyperparameter space\n",
    "    base_estimator = 'RF', # the surrogate\n",
    "    n_initial_points=10, # the number of points to evaluate f(x) to start of\n",
    "    acq_func='EI', # the acquisition function\n",
    "    n_calls=30, # the number of subsequent evaluations of f(x)\n",
    "    random_state=0, \n",
    ")\n",
    "\n",
    "end = time.time()\n",
    "print(end - start)\n",
    "rf_bayesian_run_time = end - start"
   ]
  },
  {
   "cell_type": "code",
   "execution_count": 35,
   "metadata": {},
   "outputs": [
    {
     "data": {
      "text/plain": [
       "'Best score=-0.7403'"
      ]
     },
     "execution_count": 35,
     "metadata": {},
     "output_type": "execute_result"
    }
   ],
   "source": [
    "# function value at the minimum.\n",
    "# note that it is the negative of the accuracy\n",
    "\n",
    "\"Best score=%.4f\" % fm_.fun"
   ]
  },
  {
   "cell_type": "markdown",
   "metadata": {},
   "source": [
    "This procedure didn't find as good hyperparameters as the random search or the search with GPs. The accuracy is lower."
   ]
  },
  {
   "cell_type": "markdown",
   "metadata": {},
   "source": [
    "## Evaluate convergence of the search\n",
    "\n",
    "[plot_convergence](https://scikit-optimize.github.io/stable/modules/generated/skopt.plots.plot_convergence.html#skopt.plots.plot_convergence)"
   ]
  },
  {
   "cell_type": "code",
   "execution_count": 36,
   "metadata": {},
   "outputs": [
    {
     "data": {
      "text/plain": [
       "<AxesSubplot:title={'center':'Convergence plot'}, xlabel='Number of calls $n$', ylabel='$\\\\min f(x)$ after $n$ calls'>"
      ]
     },
     "execution_count": 36,
     "metadata": {},
     "output_type": "execute_result"
    },
    {
     "data": {
      "image/png": "[encoded data removed]",
      "text/plain": [
       "<Figure size 432x288 with 1 Axes>"
      ]
     },
     "metadata": {
      "needs_background": "light"
     },
     "output_type": "display_data"
    }
   ],
   "source": [
    "plot_convergence(fm_)"
   ]
  },
  {
   "cell_type": "markdown",
   "metadata": {},
   "source": [
    "We see that for some reason, the search focuses on models with low n_estimators, and probably because of this, it does not manage to find the best hyperparameters, that return a better accuracy.\n",
    "\n",
    "## The search class"
   ]
  },
  {
   "cell_type": "code",
   "execution_count": 37,
   "metadata": {},
   "outputs": [
    {
     "data": {
      "text/html": [
       "<div>\n",
       "<style scoped>\n",
       "    .dataframe tbody tr th:only-of-type {\n",
       "        vertical-align: middle;\n",
       "    }\n",
       "\n",
       "    .dataframe tbody tr th {\n",
       "        vertical-align: top;\n",
       "    }\n",
       "\n",
       "    .dataframe thead th {\n",
       "        text-align: right;\n",
       "    }\n",
       "</style>\n",
       "<table border=\"1\" class=\"dataframe\">\n",
       "  <thead>\n",
       "    <tr style=\"text-align: right;\">\n",
       "      <th></th>\n",
       "      <th>n_estimators</th>\n",
       "      <th>max_depth</th>\n",
       "      <th>learning_rate</th>\n",
       "      <th>booster</th>\n",
       "      <th>gamma</th>\n",
       "      <th>accuracy</th>\n",
       "    </tr>\n",
       "  </thead>\n",
       "  <tbody>\n",
       "    <tr>\n",
       "      <th>0</th>\n",
       "      <td>597</td>\n",
       "      <td>42</td>\n",
       "      <td>0.850787</td>\n",
       "      <td>gbtree</td>\n",
       "      <td>62.360134</td>\n",
       "      <td>-0.74025</td>\n",
       "    </tr>\n",
       "    <tr>\n",
       "      <th>27</th>\n",
       "      <td>313</td>\n",
       "      <td>41</td>\n",
       "      <td>0.483902</td>\n",
       "      <td>gbtree</td>\n",
       "      <td>92.492404</td>\n",
       "      <td>-0.74025</td>\n",
       "    </tr>\n",
       "    <tr>\n",
       "      <th>26</th>\n",
       "      <td>60</td>\n",
       "      <td>29</td>\n",
       "      <td>0.484204</td>\n",
       "      <td>gbtree</td>\n",
       "      <td>54.474237</td>\n",
       "      <td>-0.74025</td>\n",
       "    </tr>\n",
       "    <tr>\n",
       "      <th>24</th>\n",
       "      <td>383</td>\n",
       "      <td>5</td>\n",
       "      <td>0.484735</td>\n",
       "      <td>dart</td>\n",
       "      <td>58.915678</td>\n",
       "      <td>-0.74025</td>\n",
       "    </tr>\n",
       "    <tr>\n",
       "      <th>23</th>\n",
       "      <td>111</td>\n",
       "      <td>11</td>\n",
       "      <td>0.486842</td>\n",
       "      <td>dart</td>\n",
       "      <td>71.268693</td>\n",
       "      <td>-0.74025</td>\n",
       "    </tr>\n",
       "  </tbody>\n",
       "</table>\n",
       "</div>"
      ],
      "text/plain": [
       "    n_estimators  max_depth  learning_rate booster      gamma  accuracy\n",
       "0            597         42       0.850787  gbtree  62.360134  -0.74025\n",
       "27           313         41       0.483902  gbtree  92.492404  -0.74025\n",
       "26            60         29       0.484204  gbtree  54.474237  -0.74025\n",
       "24           383          5       0.484735    dart  58.915678  -0.74025\n",
       "23           111         11       0.486842    dart  71.268693  -0.74025"
      ]
     },
     "execution_count": 37,
     "metadata": {},
     "output_type": "execute_result"
    }
   ],
   "source": [
    "# all together in one dataframe, so we can investigate further\n",
    "\n",
    "gp_bayesian_results = pd.concat([\n",
    "    pd.DataFrame(fm_.x_iters),\n",
    "    pd.Series(fm_.func_vals),\n",
    "], axis=1)\n",
    "\n",
    "gp_bayesian_results.columns = dim_names + ['accuracy']\n",
    "gp_bayesian_results.sort_values(by='accuracy', ascending=True, inplace=True)\n",
    "\n",
    "# tmp.sort_values(by='accuracy', ascending=False, inplace=True)\n",
    "gp_bayesian_results.head()"
   ]
  },
  {
   "cell_type": "code",
   "execution_count": null,
   "metadata": {},
   "outputs": [],
   "source": []
  },
  {
   "cell_type": "markdown",
   "metadata": {},
   "source": [
    "## 5. Bayesian Optimization with GBM as surrogate\n",
    "\n",
    "Sequential optimization using gradient boosted trees.\n",
    "\n",
    "Gradient boosted regression trees are used to model the (very) expensive to evaluate function func. The model is improved by sequentially evaluating the expensive function at the next best point. Thereby finding the minimum of func with as few evaluations as possible."
   ]
  },
  {
   "cell_type": "code",
   "execution_count": 38,
   "metadata": {},
   "outputs": [
    {
     "name": "stdout",
     "output_type": "stream",
     "text": [
      "561.0993180274963\n"
     ]
    }
   ],
   "source": [
    "# gbrt_minimize performs by Bayesian Optimization \n",
    "# using GBMs as surrogate for f(x)\n",
    "start = time.time()\n",
    "\n",
    "gbm_ = gbrt_minimize(\n",
    "    objective, # the objective function to minimize\n",
    "    param_grid, # the hyperparameter space\n",
    "    n_initial_points=10, # the number of points to evaluate f(x) to start of\n",
    "    acq_func='EI', # the acquisition function\n",
    "    n_calls=30, # the number of subsequent evaluations of f(x)\n",
    "    random_state=0, \n",
    ")\n",
    "\n",
    "end = time.time()\n",
    "print(end - start)\n",
    "gbm_bayesian_run_time = end - start"
   ]
  },
  {
   "cell_type": "code",
   "execution_count": 39,
   "metadata": {},
   "outputs": [
    {
     "data": {
      "text/plain": [
       "'Best score=-0.7445'"
      ]
     },
     "execution_count": 39,
     "metadata": {},
     "output_type": "execute_result"
    }
   ],
   "source": [
    "# function value at the minimum.\n",
    "# note that it is the negative of the accuracy\n",
    "\n",
    "\"Best score=%.4f\" % gbm_.fun"
   ]
  },
  {
   "cell_type": "markdown",
   "metadata": {},
   "source": [
    "Good value of the accuracy, similar to that obtained with GP and Random Search."
   ]
  },
  {
   "cell_type": "code",
   "execution_count": 40,
   "metadata": {},
   "outputs": [
    {
     "data": {
      "text/plain": [
       "<AxesSubplot:title={'center':'Convergence plot'}, xlabel='Number of calls $n$', ylabel='$\\\\min f(x)$ after $n$ calls'>"
      ]
     },
     "execution_count": 40,
     "metadata": {},
     "output_type": "execute_result"
    },
    {
     "data": {
      "image/png": "[encoded data removed]",
      "text/plain": [
       "<Figure size 432x288 with 1 Axes>"
      ]
     },
     "metadata": {
      "needs_background": "light"
     },
     "output_type": "display_data"
    }
   ],
   "source": [
    "plot_convergence(gbm_)"
   ]
  },
  {
   "cell_type": "code",
   "execution_count": 41,
   "metadata": {},
   "outputs": [
    {
     "data": {
      "text/html": [
       "<div>\n",
       "<style scoped>\n",
       "    .dataframe tbody tr th:only-of-type {\n",
       "        vertical-align: middle;\n",
       "    }\n",
       "\n",
       "    .dataframe tbody tr th {\n",
       "        vertical-align: top;\n",
       "    }\n",
       "\n",
       "    .dataframe thead th {\n",
       "        text-align: right;\n",
       "    }\n",
       "</style>\n",
       "<table border=\"1\" class=\"dataframe\">\n",
       "  <thead>\n",
       "    <tr style=\"text-align: right;\">\n",
       "      <th></th>\n",
       "      <th>n_estimators</th>\n",
       "      <th>max_depth</th>\n",
       "      <th>learning_rate</th>\n",
       "      <th>booster</th>\n",
       "      <th>gamma</th>\n",
       "      <th>accuracy</th>\n",
       "    </tr>\n",
       "  </thead>\n",
       "  <tbody>\n",
       "    <tr>\n",
       "      <th>18</th>\n",
       "      <td>883</td>\n",
       "      <td>2</td>\n",
       "      <td>0.349090</td>\n",
       "      <td>gbtree</td>\n",
       "      <td>2.853483</td>\n",
       "      <td>-0.74450</td>\n",
       "    </tr>\n",
       "    <tr>\n",
       "      <th>4</th>\n",
       "      <td>979</td>\n",
       "      <td>40</td>\n",
       "      <td>0.462250</td>\n",
       "      <td>gbtree</td>\n",
       "      <td>11.836260</td>\n",
       "      <td>-0.74350</td>\n",
       "    </tr>\n",
       "    <tr>\n",
       "      <th>26</th>\n",
       "      <td>830</td>\n",
       "      <td>3</td>\n",
       "      <td>0.118066</td>\n",
       "      <td>dart</td>\n",
       "      <td>3.797888</td>\n",
       "      <td>-0.74225</td>\n",
       "    </tr>\n",
       "    <tr>\n",
       "      <th>20</th>\n",
       "      <td>94</td>\n",
       "      <td>1</td>\n",
       "      <td>0.158393</td>\n",
       "      <td>gbtree</td>\n",
       "      <td>2.610103</td>\n",
       "      <td>-0.74050</td>\n",
       "    </tr>\n",
       "    <tr>\n",
       "      <th>0</th>\n",
       "      <td>553</td>\n",
       "      <td>36</td>\n",
       "      <td>0.600708</td>\n",
       "      <td>gbtree</td>\n",
       "      <td>42.371243</td>\n",
       "      <td>-0.74025</td>\n",
       "    </tr>\n",
       "  </tbody>\n",
       "</table>\n",
       "</div>"
      ],
      "text/plain": [
       "    n_estimators  max_depth  learning_rate booster      gamma  accuracy\n",
       "18           883          2       0.349090  gbtree   2.853483  -0.74450\n",
       "4            979         40       0.462250  gbtree  11.836260  -0.74350\n",
       "26           830          3       0.118066    dart   3.797888  -0.74225\n",
       "20            94          1       0.158393  gbtree   2.610103  -0.74050\n",
       "0            553         36       0.600708  gbtree  42.371243  -0.74025"
      ]
     },
     "execution_count": 41,
     "metadata": {},
     "output_type": "execute_result"
    }
   ],
   "source": [
    "# all together in one dataframe, so we can investigate further\n",
    "\n",
    "gbm_bayesian_results = pd.concat([\n",
    "    pd.DataFrame(gbm_.x_iters),\n",
    "    pd.Series(gbm_.func_vals),\n",
    "], axis=1)\n",
    "\n",
    "gbm_bayesian_results.columns = dim_names + ['accuracy']\n",
    "gbm_bayesian_results.sort_values(by='accuracy', ascending=True, inplace=True)\n",
    "\n",
    "# tmp.sort_values(by='accuracy', ascending=False, inplace=True)\n",
    "gbm_bayesian_results.head()"
   ]
  },
  {
   "cell_type": "markdown",
   "metadata": {},
   "source": [
    "## OPTIONAL:  Using Optimizer"
   ]
  },
  {
   "cell_type": "markdown",
   "metadata": {},
   "source": [
    "Use the Optimizer class directly when you want to control the optimization loop. We refer to this as the ask-and-tell interface. This class is used internally to implement the skopt’s top level minimization functions.\n",
    "\n",
    "## Optimization with Gaussian Process"
   ]
  },
  {
   "cell_type": "code",
   "execution_count": 42,
   "metadata": {},
   "outputs": [],
   "source": [
    "# We use the Optimizer\n",
    "\n",
    "gp_optimizer = Optimizer(\n",
    "    dimensions = param_grid, # the hyperparameter space\n",
    "    base_estimator = \"GP\", # the surrogate\n",
    "    n_initial_points=10, # the number of points to evaluate f(x) to start of\n",
    "    acq_func='EI', # the acquisition function\n",
    "    random_state=0, \n",
    "    n_jobs=4,\n",
    ")"
   ]
  },
  {
   "cell_type": "code",
   "execution_count": 43,
   "metadata": {},
   "outputs": [
    {
     "name": "stdout",
     "output_type": "stream",
     "text": [
      "800.0405342578888\n"
     ]
    }
   ],
   "source": [
    "# we will use 4 CPUs (n_points)\n",
    "# if we loop 10 times using 4 end points, we perform 40 searches in total\n",
    "start = time.time()\n",
    "\n",
    "for i in range(10):\n",
    "    x = gp_optimizer.ask(n_points=3)  # x is a list of n_points points\n",
    "    y = Parallel(n_jobs=4)(delayed(objective)(v) for v in x)  # evaluate points in parallel\n",
    "    gp_optimizer.tell(x, y)\n",
    "\n",
    "end = time.time()\n",
    "print(end - start)\n",
    "optimized_gp_bayesian_run_time = end - start"
   ]
  },
  {
   "cell_type": "code",
   "execution_count": 45,
   "metadata": {},
   "outputs": [
    {
     "data": {
      "text/plain": [
       "[[536, 34, 0.6202555575768482, 'gbtree', 85.87579572719736],\n",
       " [981, 7, 0.011604221491394147, 'gbtree', 24.236643021363218],\n",
       " [70, 27, 0.12327693424469754, 'gbtree', 90.72039968754787],\n",
       " [266, 49, 0.900269606196575, 'gbtree', 26.259800361315346],\n",
       " [171, 39, 0.5771131769273201, 'dart', 18.848211595097755],\n",
       " [421, 4, 0.281539078153369, 'gbtree', 62.6257457787331],\n",
       " [533, 4, 0.34543778018140453, 'dart', 24.053910599074918],\n",
       " [349, 32, 0.41040155161223124, 'gbtree', 32.27356885540677],\n",
       " [319, 24, 0.27855364396990406, 'dart', 67.80778718492887],\n",
       " [156, 39, 0.4705451595556588, 'dart', 81.79353636460371],\n",
       " [786, 4, 0.7689818481736821, 'dart', 47.34253520011302],\n",
       " [216, 4, 0.99, 'dart', 11.74171409034349],\n",
       " [1000, 39, 0.43500635685245737, 'dart', 100.0],\n",
       " [1000, 43, 0.7337730547035485, 'dart', 0.01],\n",
       " [742, 47, 0.839200789858305, 'gbtree', 0.1229642736176643],\n",
       " [521, 27, 0.7591257188253729, 'dart', 40.308815855045346],\n",
       " [276, 43, 0.3396264471087294, 'dart', 54.75597722512461],\n",
       " [1000, 1, 0.45624129455483775, 'dart', 100.0],\n",
       " [10, 50, 0.6297809981212151, 'dart', 0.01],\n",
       " [1000, 1, 0.6154895096352003, 'dart', 0.01],\n",
       " [10, 1, 0.17528427081111855, 'dart', 0.01],\n",
       " [942, 19, 0.99, 'dart', 85.86374427559956],\n",
       " [541, 1, 0.1358461725554635, 'dart', 11.93883676493873],\n",
       " [276, 45, 0.42999620677823025, 'gbtree', 61.88786081722128],\n",
       " [432, 31, 0.417509752871737, 'dart', 50.70141522846172],\n",
       " [169, 1, 0.498370142259403, 'dart', 67.06827138332291],\n",
       " [501, 1, 0.1606132124473719, 'gbtree', 54.19996389085415],\n",
       " [10, 35, 0.5590352461131843, 'dart', 22.672075858861408],\n",
       " [764, 7, 0.5583775777559282, 'dart', 44.19149676409692],\n",
       " [10, 20, 0.987101228708846, 'gbtree', 28.23861728200538]]"
      ]
     },
     "execution_count": 45,
     "metadata": {},
     "output_type": "execute_result"
    }
   ],
   "source": [
    "# the evaluated hyperparamters\n",
    "\n",
    "gp_optimizer.Xi"
   ]
  },
  {
   "cell_type": "code",
   "execution_count": 46,
   "metadata": {},
   "outputs": [
    {
     "data": {
      "text/plain": [
       "[-0.7402500000000001,\n",
       " -0.7402500000000001,\n",
       " -0.7065,\n",
       " -0.7402500000000001,\n",
       " -0.7402500000000001,\n",
       " -0.7402500000000001,\n",
       " -0.7402500000000001,\n",
       " -0.7402500000000001,\n",
       " -0.7402500000000001,\n",
       " -0.72325,\n",
       " -0.7402500000000001,\n",
       " -0.741,\n",
       " -0.7065,\n",
       " -0.67125,\n",
       " -0.66825,\n",
       " -0.7402500000000001,\n",
       " -0.7402500000000001,\n",
       " -0.72325,\n",
       " -0.6739999999999999,\n",
       " -0.72775,\n",
       " -0.7402500000000001,\n",
       " -0.7402500000000001,\n",
       " -0.7402500000000001,\n",
       " -0.7065,\n",
       " -0.7065,\n",
       " -0.7402500000000001,\n",
       " -0.7065,\n",
       " -0.7402500000000001,\n",
       " -0.7402500000000001,\n",
       " -0.7402500000000001]"
      ]
     },
     "execution_count": 46,
     "metadata": {},
     "output_type": "execute_result"
    }
   ],
   "source": [
    "# the accuracy\n",
    "\n",
    "gp_optimizer.yi"
   ]
  },
  {
   "cell_type": "code",
   "execution_count": 47,
   "metadata": {},
   "outputs": [
    {
     "data": {
      "text/html": [
       "<div>\n",
       "<style scoped>\n",
       "    .dataframe tbody tr th:only-of-type {\n",
       "        vertical-align: middle;\n",
       "    }\n",
       "\n",
       "    .dataframe tbody tr th {\n",
       "        vertical-align: top;\n",
       "    }\n",
       "\n",
       "    .dataframe thead th {\n",
       "        text-align: right;\n",
       "    }\n",
       "</style>\n",
       "<table border=\"1\" class=\"dataframe\">\n",
       "  <thead>\n",
       "    <tr style=\"text-align: right;\">\n",
       "      <th></th>\n",
       "      <th>n_estimators</th>\n",
       "      <th>max_depth</th>\n",
       "      <th>learning_rate</th>\n",
       "      <th>booster</th>\n",
       "      <th>gamma</th>\n",
       "      <th>accuracy</th>\n",
       "    </tr>\n",
       "  </thead>\n",
       "  <tbody>\n",
       "    <tr>\n",
       "      <th>0</th>\n",
       "      <td>536</td>\n",
       "      <td>34</td>\n",
       "      <td>0.620256</td>\n",
       "      <td>gbtree</td>\n",
       "      <td>85.875796</td>\n",
       "      <td>-0.74025</td>\n",
       "    </tr>\n",
       "    <tr>\n",
       "      <th>1</th>\n",
       "      <td>981</td>\n",
       "      <td>7</td>\n",
       "      <td>0.011604</td>\n",
       "      <td>gbtree</td>\n",
       "      <td>24.236643</td>\n",
       "      <td>-0.74025</td>\n",
       "    </tr>\n",
       "    <tr>\n",
       "      <th>2</th>\n",
       "      <td>70</td>\n",
       "      <td>27</td>\n",
       "      <td>0.123277</td>\n",
       "      <td>gbtree</td>\n",
       "      <td>90.720400</td>\n",
       "      <td>-0.70650</td>\n",
       "    </tr>\n",
       "    <tr>\n",
       "      <th>3</th>\n",
       "      <td>266</td>\n",
       "      <td>49</td>\n",
       "      <td>0.900270</td>\n",
       "      <td>gbtree</td>\n",
       "      <td>26.259800</td>\n",
       "      <td>-0.74025</td>\n",
       "    </tr>\n",
       "    <tr>\n",
       "      <th>4</th>\n",
       "      <td>171</td>\n",
       "      <td>39</td>\n",
       "      <td>0.577113</td>\n",
       "      <td>dart</td>\n",
       "      <td>18.848212</td>\n",
       "      <td>-0.74025</td>\n",
       "    </tr>\n",
       "  </tbody>\n",
       "</table>\n",
       "</div>"
      ],
      "text/plain": [
       "   n_estimators  max_depth  learning_rate booster      gamma  accuracy\n",
       "0           536         34       0.620256  gbtree  85.875796  -0.74025\n",
       "1           981          7       0.011604  gbtree  24.236643  -0.74025\n",
       "2            70         27       0.123277  gbtree  90.720400  -0.70650\n",
       "3           266         49       0.900270  gbtree  26.259800  -0.74025\n",
       "4           171         39       0.577113    dart  18.848212  -0.74025"
      ]
     },
     "execution_count": 47,
     "metadata": {},
     "output_type": "execute_result"
    }
   ],
   "source": [
    "# all together in one dataframe, so we can investigate further\n",
    "\n",
    "optimized_gp_bayesian_results = pd.concat([\n",
    "    pd.DataFrame(gp_optimizer.Xi),\n",
    "    pd.Series(gp_optimizer.yi),\n",
    "], axis=1)\n",
    "\n",
    "optimized_gp_bayesian_results.columns = dim_names + ['accuracy']\n",
    "optimized_gp_bayesian_results.head()"
   ]
  },
  {
   "cell_type": "markdown",
   "metadata": {},
   "source": [
    "## Evaluate convergence of the search"
   ]
  },
  {
   "cell_type": "code",
   "execution_count": 48,
   "metadata": {
    "scrolled": true
   },
   "outputs": [
    {
     "data": {
      "text/html": [
       "<div>\n",
       "<style scoped>\n",
       "    .dataframe tbody tr th:only-of-type {\n",
       "        vertical-align: middle;\n",
       "    }\n",
       "\n",
       "    .dataframe tbody tr th {\n",
       "        vertical-align: top;\n",
       "    }\n",
       "\n",
       "    .dataframe thead th {\n",
       "        text-align: right;\n",
       "    }\n",
       "</style>\n",
       "<table border=\"1\" class=\"dataframe\">\n",
       "  <thead>\n",
       "    <tr style=\"text-align: right;\">\n",
       "      <th></th>\n",
       "      <th>n_estimators</th>\n",
       "      <th>max_depth</th>\n",
       "      <th>learning_rate</th>\n",
       "      <th>booster</th>\n",
       "      <th>gamma</th>\n",
       "      <th>accuracy</th>\n",
       "    </tr>\n",
       "  </thead>\n",
       "  <tbody>\n",
       "    <tr>\n",
       "      <th>11</th>\n",
       "      <td>216</td>\n",
       "      <td>4</td>\n",
       "      <td>0.990000</td>\n",
       "      <td>dart</td>\n",
       "      <td>11.741714</td>\n",
       "      <td>-0.74100</td>\n",
       "    </tr>\n",
       "    <tr>\n",
       "      <th>0</th>\n",
       "      <td>536</td>\n",
       "      <td>34</td>\n",
       "      <td>0.620256</td>\n",
       "      <td>gbtree</td>\n",
       "      <td>85.875796</td>\n",
       "      <td>-0.74025</td>\n",
       "    </tr>\n",
       "    <tr>\n",
       "      <th>27</th>\n",
       "      <td>10</td>\n",
       "      <td>35</td>\n",
       "      <td>0.559035</td>\n",
       "      <td>dart</td>\n",
       "      <td>22.672076</td>\n",
       "      <td>-0.74025</td>\n",
       "    </tr>\n",
       "    <tr>\n",
       "      <th>25</th>\n",
       "      <td>169</td>\n",
       "      <td>1</td>\n",
       "      <td>0.498370</td>\n",
       "      <td>dart</td>\n",
       "      <td>67.068271</td>\n",
       "      <td>-0.74025</td>\n",
       "    </tr>\n",
       "    <tr>\n",
       "      <th>22</th>\n",
       "      <td>541</td>\n",
       "      <td>1</td>\n",
       "      <td>0.135846</td>\n",
       "      <td>dart</td>\n",
       "      <td>11.938837</td>\n",
       "      <td>-0.74025</td>\n",
       "    </tr>\n",
       "    <tr>\n",
       "      <th>21</th>\n",
       "      <td>942</td>\n",
       "      <td>19</td>\n",
       "      <td>0.990000</td>\n",
       "      <td>dart</td>\n",
       "      <td>85.863744</td>\n",
       "      <td>-0.74025</td>\n",
       "    </tr>\n",
       "    <tr>\n",
       "      <th>20</th>\n",
       "      <td>10</td>\n",
       "      <td>1</td>\n",
       "      <td>0.175284</td>\n",
       "      <td>dart</td>\n",
       "      <td>0.010000</td>\n",
       "      <td>-0.74025</td>\n",
       "    </tr>\n",
       "    <tr>\n",
       "      <th>16</th>\n",
       "      <td>276</td>\n",
       "      <td>43</td>\n",
       "      <td>0.339626</td>\n",
       "      <td>dart</td>\n",
       "      <td>54.755977</td>\n",
       "      <td>-0.74025</td>\n",
       "    </tr>\n",
       "    <tr>\n",
       "      <th>15</th>\n",
       "      <td>521</td>\n",
       "      <td>27</td>\n",
       "      <td>0.759126</td>\n",
       "      <td>dart</td>\n",
       "      <td>40.308816</td>\n",
       "      <td>-0.74025</td>\n",
       "    </tr>\n",
       "    <tr>\n",
       "      <th>28</th>\n",
       "      <td>764</td>\n",
       "      <td>7</td>\n",
       "      <td>0.558378</td>\n",
       "      <td>dart</td>\n",
       "      <td>44.191497</td>\n",
       "      <td>-0.74025</td>\n",
       "    </tr>\n",
       "    <tr>\n",
       "      <th>29</th>\n",
       "      <td>10</td>\n",
       "      <td>20</td>\n",
       "      <td>0.987101</td>\n",
       "      <td>gbtree</td>\n",
       "      <td>28.238617</td>\n",
       "      <td>-0.74025</td>\n",
       "    </tr>\n",
       "    <tr>\n",
       "      <th>5</th>\n",
       "      <td>421</td>\n",
       "      <td>4</td>\n",
       "      <td>0.281539</td>\n",
       "      <td>gbtree</td>\n",
       "      <td>62.625746</td>\n",
       "      <td>-0.74025</td>\n",
       "    </tr>\n",
       "    <tr>\n",
       "      <th>1</th>\n",
       "      <td>981</td>\n",
       "      <td>7</td>\n",
       "      <td>0.011604</td>\n",
       "      <td>gbtree</td>\n",
       "      <td>24.236643</td>\n",
       "      <td>-0.74025</td>\n",
       "    </tr>\n",
       "    <tr>\n",
       "      <th>3</th>\n",
       "      <td>266</td>\n",
       "      <td>49</td>\n",
       "      <td>0.900270</td>\n",
       "      <td>gbtree</td>\n",
       "      <td>26.259800</td>\n",
       "      <td>-0.74025</td>\n",
       "    </tr>\n",
       "    <tr>\n",
       "      <th>8</th>\n",
       "      <td>319</td>\n",
       "      <td>24</td>\n",
       "      <td>0.278554</td>\n",
       "      <td>dart</td>\n",
       "      <td>67.807787</td>\n",
       "      <td>-0.74025</td>\n",
       "    </tr>\n",
       "    <tr>\n",
       "      <th>7</th>\n",
       "      <td>349</td>\n",
       "      <td>32</td>\n",
       "      <td>0.410402</td>\n",
       "      <td>gbtree</td>\n",
       "      <td>32.273569</td>\n",
       "      <td>-0.74025</td>\n",
       "    </tr>\n",
       "    <tr>\n",
       "      <th>6</th>\n",
       "      <td>533</td>\n",
       "      <td>4</td>\n",
       "      <td>0.345438</td>\n",
       "      <td>dart</td>\n",
       "      <td>24.053911</td>\n",
       "      <td>-0.74025</td>\n",
       "    </tr>\n",
       "    <tr>\n",
       "      <th>4</th>\n",
       "      <td>171</td>\n",
       "      <td>39</td>\n",
       "      <td>0.577113</td>\n",
       "      <td>dart</td>\n",
       "      <td>18.848212</td>\n",
       "      <td>-0.74025</td>\n",
       "    </tr>\n",
       "    <tr>\n",
       "      <th>10</th>\n",
       "      <td>786</td>\n",
       "      <td>4</td>\n",
       "      <td>0.768982</td>\n",
       "      <td>dart</td>\n",
       "      <td>47.342535</td>\n",
       "      <td>-0.74025</td>\n",
       "    </tr>\n",
       "    <tr>\n",
       "      <th>19</th>\n",
       "      <td>1000</td>\n",
       "      <td>1</td>\n",
       "      <td>0.615490</td>\n",
       "      <td>dart</td>\n",
       "      <td>0.010000</td>\n",
       "      <td>-0.72775</td>\n",
       "    </tr>\n",
       "    <tr>\n",
       "      <th>9</th>\n",
       "      <td>156</td>\n",
       "      <td>39</td>\n",
       "      <td>0.470545</td>\n",
       "      <td>dart</td>\n",
       "      <td>81.793536</td>\n",
       "      <td>-0.72325</td>\n",
       "    </tr>\n",
       "    <tr>\n",
       "      <th>17</th>\n",
       "      <td>1000</td>\n",
       "      <td>1</td>\n",
       "      <td>0.456241</td>\n",
       "      <td>dart</td>\n",
       "      <td>100.000000</td>\n",
       "      <td>-0.72325</td>\n",
       "    </tr>\n",
       "    <tr>\n",
       "      <th>23</th>\n",
       "      <td>276</td>\n",
       "      <td>45</td>\n",
       "      <td>0.429996</td>\n",
       "      <td>gbtree</td>\n",
       "      <td>61.887861</td>\n",
       "      <td>-0.70650</td>\n",
       "    </tr>\n",
       "    <tr>\n",
       "      <th>24</th>\n",
       "      <td>432</td>\n",
       "      <td>31</td>\n",
       "      <td>0.417510</td>\n",
       "      <td>dart</td>\n",
       "      <td>50.701415</td>\n",
       "      <td>-0.70650</td>\n",
       "    </tr>\n",
       "    <tr>\n",
       "      <th>2</th>\n",
       "      <td>70</td>\n",
       "      <td>27</td>\n",
       "      <td>0.123277</td>\n",
       "      <td>gbtree</td>\n",
       "      <td>90.720400</td>\n",
       "      <td>-0.70650</td>\n",
       "    </tr>\n",
       "    <tr>\n",
       "      <th>26</th>\n",
       "      <td>501</td>\n",
       "      <td>1</td>\n",
       "      <td>0.160613</td>\n",
       "      <td>gbtree</td>\n",
       "      <td>54.199964</td>\n",
       "      <td>-0.70650</td>\n",
       "    </tr>\n",
       "    <tr>\n",
       "      <th>12</th>\n",
       "      <td>1000</td>\n",
       "      <td>39</td>\n",
       "      <td>0.435006</td>\n",
       "      <td>dart</td>\n",
       "      <td>100.000000</td>\n",
       "      <td>-0.70650</td>\n",
       "    </tr>\n",
       "    <tr>\n",
       "      <th>18</th>\n",
       "      <td>10</td>\n",
       "      <td>50</td>\n",
       "      <td>0.629781</td>\n",
       "      <td>dart</td>\n",
       "      <td>0.010000</td>\n",
       "      <td>-0.67400</td>\n",
       "    </tr>\n",
       "    <tr>\n",
       "      <th>13</th>\n",
       "      <td>1000</td>\n",
       "      <td>43</td>\n",
       "      <td>0.733773</td>\n",
       "      <td>dart</td>\n",
       "      <td>0.010000</td>\n",
       "      <td>-0.67125</td>\n",
       "    </tr>\n",
       "    <tr>\n",
       "      <th>14</th>\n",
       "      <td>742</td>\n",
       "      <td>47</td>\n",
       "      <td>0.839201</td>\n",
       "      <td>gbtree</td>\n",
       "      <td>0.122964</td>\n",
       "      <td>-0.66825</td>\n",
       "    </tr>\n",
       "  </tbody>\n",
       "</table>\n",
       "</div>"
      ],
      "text/plain": [
       "    n_estimators  max_depth  learning_rate booster       gamma  accuracy\n",
       "11           216          4       0.990000    dart   11.741714  -0.74100\n",
       "0            536         34       0.620256  gbtree   85.875796  -0.74025\n",
       "27            10         35       0.559035    dart   22.672076  -0.74025\n",
       "25           169          1       0.498370    dart   67.068271  -0.74025\n",
       "22           541          1       0.135846    dart   11.938837  -0.74025\n",
       "21           942         19       0.990000    dart   85.863744  -0.74025\n",
       "20            10          1       0.175284    dart    0.010000  -0.74025\n",
       "16           276         43       0.339626    dart   54.755977  -0.74025\n",
       "15           521         27       0.759126    dart   40.308816  -0.74025\n",
       "28           764          7       0.558378    dart   44.191497  -0.74025\n",
       "29            10         20       0.987101  gbtree   28.238617  -0.74025\n",
       "5            421          4       0.281539  gbtree   62.625746  -0.74025\n",
       "1            981          7       0.011604  gbtree   24.236643  -0.74025\n",
       "3            266         49       0.900270  gbtree   26.259800  -0.74025\n",
       "8            319         24       0.278554    dart   67.807787  -0.74025\n",
       "7            349         32       0.410402  gbtree   32.273569  -0.74025\n",
       "6            533          4       0.345438    dart   24.053911  -0.74025\n",
       "4            171         39       0.577113    dart   18.848212  -0.74025\n",
       "10           786          4       0.768982    dart   47.342535  -0.74025\n",
       "19          1000          1       0.615490    dart    0.010000  -0.72775\n",
       "9            156         39       0.470545    dart   81.793536  -0.72325\n",
       "17          1000          1       0.456241    dart  100.000000  -0.72325\n",
       "23           276         45       0.429996  gbtree   61.887861  -0.70650\n",
       "24           432         31       0.417510    dart   50.701415  -0.70650\n",
       "2             70         27       0.123277  gbtree   90.720400  -0.70650\n",
       "26           501          1       0.160613  gbtree   54.199964  -0.70650\n",
       "12          1000         39       0.435006    dart  100.000000  -0.70650\n",
       "18            10         50       0.629781    dart    0.010000  -0.67400\n",
       "13          1000         43       0.733773    dart    0.010000  -0.67125\n",
       "14           742         47       0.839201  gbtree    0.122964  -0.66825"
      ]
     },
     "execution_count": 48,
     "metadata": {},
     "output_type": "execute_result"
    }
   ],
   "source": [
    "optimized_gp_bayesian_results.sort_values(by='accuracy', ascending=True)"
   ]
  },
  {
   "cell_type": "code",
   "execution_count": null,
   "metadata": {},
   "outputs": [],
   "source": []
  },
  {
   "cell_type": "markdown",
   "metadata": {},
   "source": [
    "## 7. Optimization with RANDOM FOREST"
   ]
  },
  {
   "cell_type": "code",
   "execution_count": 49,
   "metadata": {},
   "outputs": [],
   "source": [
    "# We use the Optimizer\n",
    "\n",
    "rf_optimizer = Optimizer(\n",
    "    dimensions = param_grid, # the hyperparameter space\n",
    "    base_estimator = \"RF\", # the surrogate\n",
    "    n_initial_points=10, # the number of points to evaluate f(x) to start of\n",
    "    acq_func='EI', # the acquisition function\n",
    "    random_state=0, \n",
    "    n_jobs=4,\n",
    ")"
   ]
  },
  {
   "cell_type": "code",
   "execution_count": 50,
   "metadata": {},
   "outputs": [
    {
     "name": "stdout",
     "output_type": "stream",
     "text": [
      "250.82361388206482\n"
     ]
    }
   ],
   "source": [
    "# we will use 4 CPUs (n_points)\n",
    "# if we loop 10 times using 4 end points, we perform 40 searches in total\n",
    "start = time.time()\n",
    "\n",
    "for i in range(10):\n",
    "    x = rf_optimizer.ask(n_points=3)  # x is a list of n_points points\n",
    "    y = Parallel(n_jobs=4)(delayed(objective)(v) for v in x)  # evaluate points in parallel\n",
    "    rf_optimizer.tell(x, y)\n",
    "\n",
    "end = time.time()\n",
    "print(end - start)\n",
    "optimized_rf_bayesian_run_time = end - start"
   ]
  },
  {
   "cell_type": "code",
   "execution_count": 51,
   "metadata": {},
   "outputs": [
    {
     "data": {
      "text/plain": [
       "[[536, 34, 0.6202555575768482, 'gbtree', 85.87579572719736],\n",
       " [981, 7, 0.011604221491394147, 'gbtree', 24.236643021363218],\n",
       " [70, 27, 0.12327693424469754, 'gbtree', 90.72039968754787],\n",
       " [266, 49, 0.900269606196575, 'gbtree', 26.259800361315346],\n",
       " [171, 39, 0.5771131769273201, 'dart', 18.848211595097755],\n",
       " [421, 4, 0.281539078153369, 'gbtree', 62.6257457787331],\n",
       " [533, 4, 0.34543778018140453, 'dart', 24.053910599074918],\n",
       " [349, 32, 0.41040155161223124, 'gbtree', 32.27356885540677],\n",
       " [319, 24, 0.27855364396990406, 'dart', 67.80778718492887],\n",
       " [156, 39, 0.4705451595556588, 'dart', 81.79353636460371],\n",
       " [14, 28, 0.15716243142797087, 'gbtree', 76.3755352552682],\n",
       " [147, 20, 0.1088341875451339, 'gbtree', 83.55956276984722],\n",
       " [214, 33, 0.09637783082362113, 'gbtree', 17.698926390858457],\n",
       " [190, 31, 0.03906542383800203, 'gbtree', 6.98397227606828],\n",
       " [166, 20, 0.2507415561716189, 'dart', 6.6314138233190505],\n",
       " [182, 44, 0.41795077450101803, 'gbtree', 78.928514488324],\n",
       " [173, 28, 0.5719242774545013, 'gbtree', 93.97534665093728],\n",
       " [169, 35, 0.2728326870632026, 'gbtree', 76.24150970795822],\n",
       " [457, 36, 0.29019200727054, 'gbtree', 72.03887882690424],\n",
       " [322, 41, 0.3062915939581616, 'gbtree', 74.19842179858401],\n",
       " [353, 35, 0.35495397197483625, 'gbtree', 75.23432297751015],\n",
       " [851, 30, 0.31106155641410577, 'gbtree', 67.93078688165483],\n",
       " [341, 49, 0.2947646493733756, 'gbtree', 69.4942933767718],\n",
       " [551, 46, 0.267145421449412, 'gbtree', 70.11028374205094],\n",
       " [337, 33, 0.40488678129227346, 'gbtree', 66.73366493041435],\n",
       " [628, 30, 0.32965913104942235, 'gbtree', 67.73213798948557],\n",
       " [342, 20, 0.07988235844796834, 'dart', 67.83564387403509],\n",
       " [343, 35, 0.37674130036413433, 'gbtree', 58.05887887868263],\n",
       " [491, 27, 0.33274092662628274, 'gbtree', 64.16059383036915],\n",
       " [268, 32, 0.2884010147886342, 'dart', 64.84818862573596]]"
      ]
     },
     "execution_count": 51,
     "metadata": {},
     "output_type": "execute_result"
    }
   ],
   "source": [
    "# the evaluated hyperparamters\n",
    "\n",
    "rf_optimizer.Xi"
   ]
  },
  {
   "cell_type": "code",
   "execution_count": 52,
   "metadata": {},
   "outputs": [
    {
     "data": {
      "text/plain": [
       "[-0.7402500000000001,\n",
       " -0.7402500000000001,\n",
       " -0.7065,\n",
       " -0.7402500000000001,\n",
       " -0.7402500000000001,\n",
       " -0.7402500000000001,\n",
       " -0.7402500000000001,\n",
       " -0.7402500000000001,\n",
       " -0.7402500000000001,\n",
       " -0.72325,\n",
       " -0.7065,\n",
       " -0.7065,\n",
       " -0.7402500000000001,\n",
       " -0.741,\n",
       " -0.7322500000000001,\n",
       " -0.7065,\n",
       " -0.7402500000000001,\n",
       " -0.7065,\n",
       " -0.7065,\n",
       " -0.7065,\n",
       " -0.7065,\n",
       " -0.7065,\n",
       " -0.7065,\n",
       " -0.72325,\n",
       " -0.7065,\n",
       " -0.7065,\n",
       " -0.7065,\n",
       " -0.7065,\n",
       " -0.7065,\n",
       " -0.7402500000000001]"
      ]
     },
     "execution_count": 52,
     "metadata": {},
     "output_type": "execute_result"
    }
   ],
   "source": [
    "# the accuracy\n",
    "\n",
    "rf_optimizer.yi"
   ]
  },
  {
   "cell_type": "code",
   "execution_count": 53,
   "metadata": {},
   "outputs": [
    {
     "data": {
      "text/html": [
       "<div>\n",
       "<style scoped>\n",
       "    .dataframe tbody tr th:only-of-type {\n",
       "        vertical-align: middle;\n",
       "    }\n",
       "\n",
       "    .dataframe tbody tr th {\n",
       "        vertical-align: top;\n",
       "    }\n",
       "\n",
       "    .dataframe thead th {\n",
       "        text-align: right;\n",
       "    }\n",
       "</style>\n",
       "<table border=\"1\" class=\"dataframe\">\n",
       "  <thead>\n",
       "    <tr style=\"text-align: right;\">\n",
       "      <th></th>\n",
       "      <th>n_estimators</th>\n",
       "      <th>max_depth</th>\n",
       "      <th>learning_rate</th>\n",
       "      <th>booster</th>\n",
       "      <th>gamma</th>\n",
       "      <th>accuracy</th>\n",
       "    </tr>\n",
       "  </thead>\n",
       "  <tbody>\n",
       "    <tr>\n",
       "      <th>0</th>\n",
       "      <td>536</td>\n",
       "      <td>34</td>\n",
       "      <td>0.620256</td>\n",
       "      <td>gbtree</td>\n",
       "      <td>85.875796</td>\n",
       "      <td>-0.74025</td>\n",
       "    </tr>\n",
       "    <tr>\n",
       "      <th>1</th>\n",
       "      <td>981</td>\n",
       "      <td>7</td>\n",
       "      <td>0.011604</td>\n",
       "      <td>gbtree</td>\n",
       "      <td>24.236643</td>\n",
       "      <td>-0.74025</td>\n",
       "    </tr>\n",
       "    <tr>\n",
       "      <th>2</th>\n",
       "      <td>70</td>\n",
       "      <td>27</td>\n",
       "      <td>0.123277</td>\n",
       "      <td>gbtree</td>\n",
       "      <td>90.720400</td>\n",
       "      <td>-0.70650</td>\n",
       "    </tr>\n",
       "    <tr>\n",
       "      <th>3</th>\n",
       "      <td>266</td>\n",
       "      <td>49</td>\n",
       "      <td>0.900270</td>\n",
       "      <td>gbtree</td>\n",
       "      <td>26.259800</td>\n",
       "      <td>-0.74025</td>\n",
       "    </tr>\n",
       "    <tr>\n",
       "      <th>4</th>\n",
       "      <td>171</td>\n",
       "      <td>39</td>\n",
       "      <td>0.577113</td>\n",
       "      <td>dart</td>\n",
       "      <td>18.848212</td>\n",
       "      <td>-0.74025</td>\n",
       "    </tr>\n",
       "  </tbody>\n",
       "</table>\n",
       "</div>"
      ],
      "text/plain": [
       "   n_estimators  max_depth  learning_rate booster      gamma  accuracy\n",
       "0           536         34       0.620256  gbtree  85.875796  -0.74025\n",
       "1           981          7       0.011604  gbtree  24.236643  -0.74025\n",
       "2            70         27       0.123277  gbtree  90.720400  -0.70650\n",
       "3           266         49       0.900270  gbtree  26.259800  -0.74025\n",
       "4           171         39       0.577113    dart  18.848212  -0.74025"
      ]
     },
     "execution_count": 53,
     "metadata": {},
     "output_type": "execute_result"
    }
   ],
   "source": [
    "# all together in one dataframe, so we can investigate further\n",
    "\n",
    "optimized_rf_bayesian_results = pd.concat([\n",
    "    pd.DataFrame(rf_optimizer.Xi),\n",
    "    pd.Series(rf_optimizer.yi),\n",
    "], axis=1)\n",
    "\n",
    "optimized_rf_bayesian_results.columns = dim_names + ['accuracy']\n",
    "optimized_rf_bayesian_results.head()"
   ]
  },
  {
   "cell_type": "markdown",
   "metadata": {},
   "source": [
    "## Evaluate convergence of the search"
   ]
  },
  {
   "cell_type": "markdown",
   "metadata": {},
   "source": [
    "# 8. OPTIMIZATION WITH GBM"
   ]
  },
  {
   "cell_type": "code",
   "execution_count": null,
   "metadata": {},
   "outputs": [],
   "source": []
  },
  {
   "cell_type": "code",
   "execution_count": 54,
   "metadata": {},
   "outputs": [],
   "source": [
    "\n",
    "# We use the Optimizer\n",
    "\n",
    "gbm_optimizer = Optimizer(\n",
    "    dimensions = param_grid, # the hyperparameter space\n",
    "    base_estimator = \"GBRT\", # the surrogate\n",
    "    n_initial_points=10, # the number of points to evaluate f(x) to start of\n",
    "    acq_func='EI', # the acquisition function\n",
    "    random_state=0, \n",
    "    n_jobs=4,\n",
    ")\n",
    "\n",
    "optimized_gbm_bayesian_run_time = end - start"
   ]
  },
  {
   "cell_type": "code",
   "execution_count": 55,
   "metadata": {},
   "outputs": [
    {
     "name": "stdout",
     "output_type": "stream",
     "text": [
      "716.6659710407257\n"
     ]
    }
   ],
   "source": [
    "# we will use 4 CPUs (n_points)\n",
    "# if we loop 10 times using 4 end points, we perform 40 searches in total\n",
    "start = time.time()\n",
    "\n",
    "for i in range(10):\n",
    "    x = gbm_optimizer.ask(n_points=3)  # x is a list of n_points points\n",
    "    y = Parallel(n_jobs=4)(delayed(objective)(v) for v in x)  # evaluate points in parallel\n",
    "    gbm_optimizer.tell(x, y)\n",
    "\n",
    "end = time.time()\n",
    "print(end - start)\n",
    "optimized_gbm_bayesian_run_time = end - start"
   ]
  },
  {
   "cell_type": "code",
   "execution_count": 56,
   "metadata": {},
   "outputs": [
    {
     "data": {
      "text/plain": [
       "[[536, 34, 0.6202555575768482, 'gbtree', 85.87579572719736],\n",
       " [981, 7, 0.011604221491394147, 'gbtree', 24.236643021363218],\n",
       " [70, 27, 0.12327693424469754, 'gbtree', 90.72039968754787],\n",
       " [266, 49, 0.900269606196575, 'gbtree', 26.259800361315346],\n",
       " [171, 39, 0.5771131769273201, 'dart', 18.848211595097755],\n",
       " [421, 4, 0.281539078153369, 'gbtree', 62.6257457787331],\n",
       " [533, 4, 0.34543778018140453, 'dart', 24.053910599074918],\n",
       " [349, 32, 0.41040155161223124, 'gbtree', 32.27356885540677],\n",
       " [319, 24, 0.27855364396990406, 'dart', 67.80778718492887],\n",
       " [156, 39, 0.4705451595556588, 'dart', 81.79353636460371],\n",
       " [682, 17, 0.15139925066488344, 'dart', 66.25887569725694],\n",
       " [70, 20, 0.7208925164995721, 'dart', 96.19050758873833],\n",
       " [565, 23, 0.20695072294706046, 'dart', 48.821115600834155],\n",
       " [867, 48, 0.16579353959654722, 'dart', 47.95239065384019],\n",
       " [208, 22, 0.15545606251208782, 'gbtree', 59.472025903947184],\n",
       " [728, 41, 0.4533977890779622, 'dart', 52.80562906316854],\n",
       " [517, 49, 0.5946435706183474, 'dart', 15.9393429649895],\n",
       " [251, 30, 0.48133346752710615, 'dart', 51.129378718496],\n",
       " [37, 24, 0.7849111590087756, 'gbtree', 9.147350300990999],\n",
       " [143, 23, 0.8098761856485054, 'gbtree', 6.684764035358705],\n",
       " [882, 22, 0.1845419276131989, 'gbtree', 36.36206510386935],\n",
       " [65, 39, 0.6174927379819176, 'dart', 26.620513061117354],\n",
       " [55, 35, 0.6337617587050459, 'dart', 37.32171212600005],\n",
       " [52, 36, 0.6608171200314659, 'gbtree', 28.37549812367405],\n",
       " [746, 30, 0.7060801566719204, 'dart', 80.67769254866003],\n",
       " [983, 9, 0.05928598497511381, 'gbtree', 3.9400762700986802],\n",
       " [932, 3, 0.29269249799290115, 'dart', 9.555050747566797],\n",
       " [647, 3, 0.350117332924977, 'gbtree', 4.657587032423443],\n",
       " [329, 3, 0.013675524123773198, 'gbtree', 13.111576092774076],\n",
       " [117, 24, 0.8068121493639849, 'gbtree', 1.3160657756469347]]"
      ]
     },
     "execution_count": 56,
     "metadata": {},
     "output_type": "execute_result"
    }
   ],
   "source": [
    "# the evaluated hyperparamters\n",
    "\n",
    "gbm_optimizer.Xi"
   ]
  },
  {
   "cell_type": "code",
   "execution_count": 57,
   "metadata": {},
   "outputs": [
    {
     "data": {
      "text/plain": [
       "[-0.7402500000000001,\n",
       " -0.7402500000000001,\n",
       " -0.7065,\n",
       " -0.7402500000000001,\n",
       " -0.7402500000000001,\n",
       " -0.7402500000000001,\n",
       " -0.7402500000000001,\n",
       " -0.7402500000000001,\n",
       " -0.7402500000000001,\n",
       " -0.72325,\n",
       " -0.7065,\n",
       " -0.7402500000000001,\n",
       " -0.7402500000000001,\n",
       " -0.7065,\n",
       " -0.7065,\n",
       " -0.72325,\n",
       " -0.741,\n",
       " -0.72325,\n",
       " -0.7335,\n",
       " -0.70275,\n",
       " -0.7402500000000001,\n",
       " -0.7402500000000001,\n",
       " -0.7402500000000001,\n",
       " -0.7402500000000001,\n",
       " -0.7402500000000001,\n",
       " -0.7362500000000001,\n",
       " -0.741,\n",
       " -0.74275,\n",
       " -0.7402500000000001,\n",
       " -0.6737500000000001]"
      ]
     },
     "execution_count": 57,
     "metadata": {},
     "output_type": "execute_result"
    }
   ],
   "source": [
    "# the accuracy\n",
    "\n",
    "gbm_optimizer.yi"
   ]
  },
  {
   "cell_type": "code",
   "execution_count": 58,
   "metadata": {},
   "outputs": [
    {
     "data": {
      "text/html": [
       "<div>\n",
       "<style scoped>\n",
       "    .dataframe tbody tr th:only-of-type {\n",
       "        vertical-align: middle;\n",
       "    }\n",
       "\n",
       "    .dataframe tbody tr th {\n",
       "        vertical-align: top;\n",
       "    }\n",
       "\n",
       "    .dataframe thead th {\n",
       "        text-align: right;\n",
       "    }\n",
       "</style>\n",
       "<table border=\"1\" class=\"dataframe\">\n",
       "  <thead>\n",
       "    <tr style=\"text-align: right;\">\n",
       "      <th></th>\n",
       "      <th>n_estimators</th>\n",
       "      <th>max_depth</th>\n",
       "      <th>learning_rate</th>\n",
       "      <th>booster</th>\n",
       "      <th>gamma</th>\n",
       "      <th>accuracy</th>\n",
       "    </tr>\n",
       "  </thead>\n",
       "  <tbody>\n",
       "    <tr>\n",
       "      <th>0</th>\n",
       "      <td>536</td>\n",
       "      <td>34</td>\n",
       "      <td>0.620256</td>\n",
       "      <td>gbtree</td>\n",
       "      <td>85.875796</td>\n",
       "      <td>-0.74025</td>\n",
       "    </tr>\n",
       "    <tr>\n",
       "      <th>1</th>\n",
       "      <td>981</td>\n",
       "      <td>7</td>\n",
       "      <td>0.011604</td>\n",
       "      <td>gbtree</td>\n",
       "      <td>24.236643</td>\n",
       "      <td>-0.74025</td>\n",
       "    </tr>\n",
       "    <tr>\n",
       "      <th>2</th>\n",
       "      <td>70</td>\n",
       "      <td>27</td>\n",
       "      <td>0.123277</td>\n",
       "      <td>gbtree</td>\n",
       "      <td>90.720400</td>\n",
       "      <td>-0.70650</td>\n",
       "    </tr>\n",
       "    <tr>\n",
       "      <th>3</th>\n",
       "      <td>266</td>\n",
       "      <td>49</td>\n",
       "      <td>0.900270</td>\n",
       "      <td>gbtree</td>\n",
       "      <td>26.259800</td>\n",
       "      <td>-0.74025</td>\n",
       "    </tr>\n",
       "    <tr>\n",
       "      <th>4</th>\n",
       "      <td>171</td>\n",
       "      <td>39</td>\n",
       "      <td>0.577113</td>\n",
       "      <td>dart</td>\n",
       "      <td>18.848212</td>\n",
       "      <td>-0.74025</td>\n",
       "    </tr>\n",
       "  </tbody>\n",
       "</table>\n",
       "</div>"
      ],
      "text/plain": [
       "   n_estimators  max_depth  learning_rate booster      gamma  accuracy\n",
       "0           536         34       0.620256  gbtree  85.875796  -0.74025\n",
       "1           981          7       0.011604  gbtree  24.236643  -0.74025\n",
       "2            70         27       0.123277  gbtree  90.720400  -0.70650\n",
       "3           266         49       0.900270  gbtree  26.259800  -0.74025\n",
       "4           171         39       0.577113    dart  18.848212  -0.74025"
      ]
     },
     "execution_count": 58,
     "metadata": {},
     "output_type": "execute_result"
    }
   ],
   "source": [
    "# all together in one dataframe, so we can investigate further\n",
    "\n",
    "optimized_gbm_bayesian_results = pd.concat([\n",
    "    pd.DataFrame(gbm_optimizer.Xi),\n",
    "    pd.Series(gbm_optimizer.yi),\n",
    "], axis=1)\n",
    "\n",
    "optimized_gbm_bayesian_results.columns = dim_names + ['accuracy']\n",
    "optimized_gbm_bayesian_results.head()"
   ]
  },
  {
   "cell_type": "markdown",
   "metadata": {},
   "source": [
    "## Evaluate convergence of the search"
   ]
  },
  {
   "cell_type": "markdown",
   "metadata": {},
   "source": [
    "# 9. optimization with random search"
   ]
  },
  {
   "cell_type": "code",
   "execution_count": 59,
   "metadata": {},
   "outputs": [],
   "source": [
    "# We use the Optimizer\n",
    "\n",
    "random_optimizer = Optimizer(\n",
    "    dimensions = param_grid, # the hyperparameter space\n",
    "    base_estimator = \"DUMMY\", # the surrogate\n",
    "    n_initial_points=10, # the number of points to evaluate f(x) to start of\n",
    "    acq_func='EI', # the acquisition function\n",
    "    random_state=0, \n",
    "    n_jobs=4,\n",
    ")"
   ]
  },
  {
   "cell_type": "code",
   "execution_count": 60,
   "metadata": {},
   "outputs": [
    {
     "name": "stdout",
     "output_type": "stream",
     "text": [
      "804.4486119747162\n"
     ]
    }
   ],
   "source": [
    "# we will use 4 CPUs (n_points)\n",
    "# if we loop 10 times using 4 end points, we perform 40 searches in total\n",
    "start = time.time()\n",
    "\n",
    "for i in range(10):\n",
    "    x = random_optimizer.ask(n_points=3)  # x is a list of n_points points\n",
    "    y = Parallel(n_jobs=4)(delayed(objective)(v) for v in x)  # evaluate points in parallel\n",
    "    random_optimizer.tell(x, y)\n",
    "\n",
    "end = time.time()\n",
    "print(end - start)\n",
    "optimized_random_search_run_time = end - start"
   ]
  },
  {
   "cell_type": "code",
   "execution_count": 61,
   "metadata": {},
   "outputs": [
    {
     "data": {
      "text/plain": [
       "[[536, 34, 0.6202555575768482, 'gbtree', 85.87579572719736],\n",
       " [981, 7, 0.011604221491394147, 'gbtree', 24.236643021363218],\n",
       " [70, 27, 0.12327693424469754, 'gbtree', 90.72039968754787],\n",
       " [266, 49, 0.900269606196575, 'gbtree', 26.259800361315346],\n",
       " [171, 39, 0.5771131769273201, 'dart', 18.848211595097755],\n",
       " [421, 4, 0.281539078153369, 'gbtree', 62.6257457787331],\n",
       " [533, 4, 0.34543778018140453, 'dart', 24.053910599074918],\n",
       " [349, 32, 0.41040155161223124, 'gbtree', 32.27356885540677],\n",
       " [319, 24, 0.27855364396990406, 'dart', 67.80778718492887],\n",
       " [156, 39, 0.4705451595556588, 'dart', 81.79353636460371],\n",
       " [682, 42, 0.3230504099339517, 'dart', 11.06970651690319],\n",
       " [299, 8, 0.29983730925676766, 'dart', 25.580591822273323],\n",
       " [240, 13, 0.7236175653975022, 'dart', 18.11783023187267],\n",
       " [261, 2, 0.039126355980053366, 'dart', 26.04667463325948],\n",
       " [631, 26, 0.2934797338928394, 'gbtree', 87.04009313950871],\n",
       " [840, 50, 0.7287385693054261, 'dart', 33.34870480317856],\n",
       " [287, 43, 0.7620804677537625, 'dart', 84.49940138855533],\n",
       " [543, 42, 0.09171125475332452, 'dart', 33.92884466901419],\n",
       " [967, 38, 0.42834483692045155, 'dart', 23.86225301358967],\n",
       " [858, 23, 0.7133828110812502, 'gbtree', 37.33858747669097],\n",
       " [761, 43, 0.7368825517218235, 'dart', 25.97287535453126],\n",
       " [515, 27, 0.717341810826314, 'dart', 5.282047445209654],\n",
       " [248, 8, 0.3023475654352666, 'dart', 86.56807083665645],\n",
       " [807, 12, 0.16398219837524777, 'gbtree', 33.40544433679872],\n",
       " [101, 45, 0.787612405145125, 'gbtree', 44.865369433191496],\n",
       " [547, 19, 0.05092585718275444, 'dart', 90.93634599374776],\n",
       " [844, 2, 0.040763383257858776, 'gbtree', 75.08568711124221],\n",
       " [376, 23, 0.2665039993165044, 'gbtree', 7.021537803892508],\n",
       " [746, 37, 0.5043119749739806, 'gbtree', 95.77511679912564],\n",
       " [326, 28, 0.4561557227755504, 'gbtree', 84.54792708631645]]"
      ]
     },
     "execution_count": 61,
     "metadata": {},
     "output_type": "execute_result"
    }
   ],
   "source": [
    "# the evaluated hyperparamters\n",
    "\n",
    "random_optimizer.Xi"
   ]
  },
  {
   "cell_type": "code",
   "execution_count": 62,
   "metadata": {},
   "outputs": [
    {
     "data": {
      "text/plain": [
       "[-0.7402500000000001,\n",
       " -0.7402500000000001,\n",
       " -0.7065,\n",
       " -0.7402500000000001,\n",
       " -0.7402500000000001,\n",
       " -0.7402500000000001,\n",
       " -0.7402500000000001,\n",
       " -0.7402500000000001,\n",
       " -0.7402500000000001,\n",
       " -0.72325,\n",
       " -0.741,\n",
       " -0.7402500000000001,\n",
       " -0.7402500000000001,\n",
       " -0.7402500000000001,\n",
       " -0.7065,\n",
       " -0.7402500000000001,\n",
       " -0.7402500000000001,\n",
       " -0.7402500000000001,\n",
       " -0.7402500000000001,\n",
       " -0.7402500000000001,\n",
       " -0.7402500000000001,\n",
       " -0.6935,\n",
       " -0.7065,\n",
       " -0.7402500000000001,\n",
       " -0.7402500000000001,\n",
       " -0.7065,\n",
       " -0.7065,\n",
       " -0.7365,\n",
       " -0.7402500000000001,\n",
       " -0.72325]"
      ]
     },
     "execution_count": 62,
     "metadata": {},
     "output_type": "execute_result"
    }
   ],
   "source": [
    "# the accuracy\n",
    "\n",
    "random_optimizer.yi"
   ]
  },
  {
   "cell_type": "code",
   "execution_count": 63,
   "metadata": {},
   "outputs": [
    {
     "data": {
      "text/html": [
       "<div>\n",
       "<style scoped>\n",
       "    .dataframe tbody tr th:only-of-type {\n",
       "        vertical-align: middle;\n",
       "    }\n",
       "\n",
       "    .dataframe tbody tr th {\n",
       "        vertical-align: top;\n",
       "    }\n",
       "\n",
       "    .dataframe thead th {\n",
       "        text-align: right;\n",
       "    }\n",
       "</style>\n",
       "<table border=\"1\" class=\"dataframe\">\n",
       "  <thead>\n",
       "    <tr style=\"text-align: right;\">\n",
       "      <th></th>\n",
       "      <th>n_estimators</th>\n",
       "      <th>max_depth</th>\n",
       "      <th>learning_rate</th>\n",
       "      <th>booster</th>\n",
       "      <th>gamma</th>\n",
       "      <th>accuracy</th>\n",
       "    </tr>\n",
       "  </thead>\n",
       "  <tbody>\n",
       "    <tr>\n",
       "      <th>0</th>\n",
       "      <td>536</td>\n",
       "      <td>34</td>\n",
       "      <td>0.620256</td>\n",
       "      <td>gbtree</td>\n",
       "      <td>85.875796</td>\n",
       "      <td>-0.74025</td>\n",
       "    </tr>\n",
       "    <tr>\n",
       "      <th>1</th>\n",
       "      <td>981</td>\n",
       "      <td>7</td>\n",
       "      <td>0.011604</td>\n",
       "      <td>gbtree</td>\n",
       "      <td>24.236643</td>\n",
       "      <td>-0.74025</td>\n",
       "    </tr>\n",
       "    <tr>\n",
       "      <th>2</th>\n",
       "      <td>70</td>\n",
       "      <td>27</td>\n",
       "      <td>0.123277</td>\n",
       "      <td>gbtree</td>\n",
       "      <td>90.720400</td>\n",
       "      <td>-0.70650</td>\n",
       "    </tr>\n",
       "    <tr>\n",
       "      <th>3</th>\n",
       "      <td>266</td>\n",
       "      <td>49</td>\n",
       "      <td>0.900270</td>\n",
       "      <td>gbtree</td>\n",
       "      <td>26.259800</td>\n",
       "      <td>-0.74025</td>\n",
       "    </tr>\n",
       "    <tr>\n",
       "      <th>4</th>\n",
       "      <td>171</td>\n",
       "      <td>39</td>\n",
       "      <td>0.577113</td>\n",
       "      <td>dart</td>\n",
       "      <td>18.848212</td>\n",
       "      <td>-0.74025</td>\n",
       "    </tr>\n",
       "  </tbody>\n",
       "</table>\n",
       "</div>"
      ],
      "text/plain": [
       "   n_estimators  max_depth  learning_rate booster      gamma  accuracy\n",
       "0           536         34       0.620256  gbtree  85.875796  -0.74025\n",
       "1           981          7       0.011604  gbtree  24.236643  -0.74025\n",
       "2            70         27       0.123277  gbtree  90.720400  -0.70650\n",
       "3           266         49       0.900270  gbtree  26.259800  -0.74025\n",
       "4           171         39       0.577113    dart  18.848212  -0.74025"
      ]
     },
     "execution_count": 63,
     "metadata": {},
     "output_type": "execute_result"
    }
   ],
   "source": [
    "# all together in one dataframe, so we can investigate further\n",
    "\n",
    "optimized_random_search_results = pd.concat([\n",
    "    pd.DataFrame(random_optimizer.Xi),\n",
    "    pd.Series(random_optimizer.yi),\n",
    "], axis=1)\n",
    "\n",
    "optimized_random_search_results.columns = dim_names + ['accuracy']\n",
    "optimized_random_search_results.head()"
   ]
  },
  {
   "cell_type": "code",
   "execution_count": null,
   "metadata": {},
   "outputs": [],
   "source": []
  },
  {
   "cell_type": "code",
   "execution_count": null,
   "metadata": {},
   "outputs": [],
   "source": []
  },
  {
   "cell_type": "code",
   "execution_count": null,
   "metadata": {},
   "outputs": [],
   "source": []
  }
 ],
 "metadata": {
  "kernelspec": {
   "display_name": "Python 3",
   "language": "python",
   "name": "python3"
  },
  "language_info": {
   "codemirror_mode": {
    "name": "ipython",
    "version": 3
   },
   "file_extension": ".py",
   "mimetype": "text/x-python",
   "name": "python",
   "nbconvert_exporter": "python",
   "pygments_lexer": "ipython3",
   "version": "3.7.10"
  },
  "toc": {
   "base_numbering": 1,
   "nav_menu": {},
   "number_sections": true,
   "sideBar": true,
   "skip_h1_title": false,
   "title_cell": "Table of Contents",
   "title_sidebar": "Contents",
   "toc_cell": false,
   "toc_position": {},
   "toc_section_display": true,
   "toc_window_display": true
  }
 },
 "nbformat": 4,
 "nbformat_minor": 4
}
